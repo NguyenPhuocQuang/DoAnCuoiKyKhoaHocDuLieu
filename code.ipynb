{
  "nbformat": 4,
  "nbformat_minor": 0,
  "metadata": {
    "kernelspec": {
      "display_name": "Python 3",
      "language": "python",
      "name": "python3"
    },
    "language_info": {
      "codemirror_mode": {
        "name": "ipython",
        "version": 3
      },
      "file_extension": ".py",
      "mimetype": "text/x-python",
      "name": "python",
      "nbconvert_exporter": "python",
      "pygments_lexer": "ipython3",
      "version": "3.8.5"
    },
    "colab": {
      "name": "final_result.ipynb",
      "provenance": [],
      "collapsed_sections": [
        "gdlkWeefd3s8",
        "6QenZrOid3s8"
      ],
      "toc_visible": true
    }
  },
  "cells": [
    {
      "cell_type": "markdown",
      "metadata": {
        "id": "B87rFO_sd3sq"
      },
      "source": [
        "# ĐỒ ÁN CUỐI KỲ MÔN HỌC NHẬP MÔN KHOA HỌC DỮ LIỆU\n",
        "\n",
        "### GVHD: TRẦN TRUNG KIÊN\n",
        "\n",
        "#### Danh sách thành viên nhóm: STT nhóm 08\n",
        "1. 1712892: Nguyễn Thị Tuyết\n",
        "2. 1712704: Nguyễn Phước Quang"
      ]
    },
    {
      "cell_type": "markdown",
      "metadata": {
        "id": "ZmREjpNed3sy"
      },
      "source": [
        "## I. TỔNG QUAN VỀ ĐỒ ÁN\n",
        "\n",
        " ## Đề tài: Phân tích và mô hình hóa dữ liệu đánh giá phim trên website\n",
        " \n"
      ]
    },
    {
      "cell_type": "markdown",
      "metadata": {
        "id": "-Dev-S88d3sz"
      },
      "source": [
        "# II. TIẾN HÀNH PHÂN TÍCH DỮ LIỆU\n",
        "\n",
        "## 1. Lấy dữ liệu:\n"
      ]
    },
    {
      "cell_type": "code",
      "metadata": {
        "id": "Pu4xhoMfe4hq"
      },
      "source": [
        "#  import cac thuc vien\r\n",
        "import requests\r\n",
        "import csv\r\n",
        "import pandas as pd\r\n",
        "from bs4 import BeautifulSoup\r\n",
        "import matplotlib.pyplot as plt\r\n",
        "import numpy as np\r\n",
        "import re\r\n",
        "import time as t"
      ],
      "execution_count": 2,
      "outputs": []
    },
    {
      "cell_type": "code",
      "metadata": {
        "id": "f6zcohZBfFZI"
      },
      "source": [
        "per_page=1\r\n",
        "url = f'https://www.imdb.com/search/title/?title_type=feature&amp&release_date=1995-10-10,2020-12-12&amp&start={per_page}&amp&ref_=adv_nxt'\r\n",
        "html_text = requests.get(url).text\r\n",
        "tree= BeautifulSoup(html_text, 'html.parser')"
      ],
      "execution_count": 3,
      "outputs": []
    },
    {
      "cell_type": "code",
      "metadata": {
        "id": "cPb9HpBifVlD"
      },
      "source": [
        "films = tree.find_all('div', {'class': 'lister-item-content'})\r\n",
        "test=tree.find_all('div',class_=\"desc\")\r\n"
      ],
      "execution_count": 4,
      "outputs": []
    },
    {
      "cell_type": "code",
      "metadata": {
        "id": "DGQeRyPHfqxU"
      },
      "source": [
        "# các biến dùng để lưu các thuộc tính của bộ phim\r\n",
        "list_title = []\r\n",
        "duration = []\r\n",
        "category = []\r\n",
        "scores = []\r\n",
        "score_voting=[]\r\n",
        "amount_vote=[]\r\n",
        "amount_gross=[]\r\n",
        "check=True\r\n",
        "i=1\r\n",
        "while(i<10000): \r\n",
        "  url = f'https://www.imdb.com/search/title/?title_type=feature&amp&release_date=1995-10-10,2020-12-12&amp&start={i}&amp&ref_=adv_nxt'\r\n",
        "  html_text = requests.get(url).text\r\n",
        "  tree= BeautifulSoup(html_text, 'html.parser')\r\n",
        "  films = tree.find_all('div', {'class': 'lister-item-content'})\r\n",
        "  for film in films:\r\n",
        "\r\n",
        "    # lay ten film\r\n",
        "    temp=film\r\n",
        "    title=temp.find('a').get_text().replace('\\n','').replace('\\t','')\r\n",
        "    #print(title)\r\n",
        "    list_title.append(title)\r\n",
        "\r\n",
        "    try:\r\n",
        "      # lay  thoi gian cua film\r\n",
        "      head=temp.find_all(class_ = \"text-muted\")\r\n",
        "      time=head[1]\r\n",
        "      runtime = time.find(class_=\"runtime\").get_text()\r\n",
        "      runtime = re.findall(\"[0-9]+\", runtime)\r\n",
        "      runtime=int(runtime[0])\r\n",
        "      duration.append(runtime)\r\n",
        "      #print(runtime)\r\n",
        "    except:\r\n",
        "      duration.append(np.nan)\r\n",
        "    # lay the loai film\r\n",
        "    \r\n",
        "    try:\r\n",
        "      genre = time.find(class_= \"genre\").get_text()\r\n",
        "      genre=genre.lstrip(\"\\n\").rstrip(\"\\n\").replace('\\n','').replace('\\t','')\r\n",
        "      #print(genre)\r\n",
        "      category.append(genre)\r\n",
        "    except:\r\n",
        "      category.append(np.nan)\r\n",
        "\r\n",
        "    try: \r\n",
        "      # lay diem  danh gia vote\r\n",
        "      voting=temp.find(class_=\"inline-block ratings-imdb-rating\").get_text()\r\n",
        "\r\n",
        "      voting=float(voting.lstrip(\"\\n\"))\r\n",
        "      #print(voting)\r\n",
        "      score_voting.append(voting)\r\n",
        "    except:\r\n",
        "      score_voting.append(np.nan)\r\n",
        "    # lay diem Metascore\r\n",
        "\r\n",
        "    try: \r\n",
        "      meta_score=temp.find(class_=\"inline-block ratings-metascore\").get_text()\r\n",
        "      meta_score =re.findall(\"[0-9]+\", meta_score)\r\n",
        "      meta_score=(int)(meta_score[0])\r\n",
        "      #print(meta_score)\r\n",
        "      scores.append(meta_score)\r\n",
        "    except:\r\n",
        "      scores.append(np.nan)\r\n",
        "    # lay number vote\r\n",
        "    try:\r\n",
        "      number_votes=temp.find(class_=\"sort-num_votes-visible\").find_all(\"span\")[1].get_text()\r\n",
        "      number_votes=(int)(number_votes.replace(',',''))\r\n",
        "      amount_vote.append(number_votes)\r\n",
        "      #print(number_votes)\r\n",
        "    except:\r\n",
        "      amount_vote.append(np.nan)\r\n",
        "    # lay danh thu  film\r\n",
        "    try:\r\n",
        "      gross=temp.find(class_=\"sort-num_votes-visible\").find_all(\"span\")[4].get_text()\r\n",
        "      gross=gross.lstrip(\"$\").rstrip(\"M\")\r\n",
        "      amount_gross.append(gross)\r\n",
        "      #print((float)(gross))\r\n",
        "    except:\r\n",
        "      amount_gross.append(np.nan)\r\n",
        "\r\n",
        "  # kiem tra trang ke tiep\r\n",
        "  i=i+50\r\n",
        "  #print(i)\r\n",
        "  t.sleep(1)\r\n",
        "  \r\n",
        " \r\n",
        "# viết dữ liệu xuống file csv\r\n",
        "data=[list_title,duration,category,scores,score_voting,amount_vote,amount_gross]\r\n",
        "a=np.array(data)\r\n",
        "dataset = pd.DataFrame({'Title': list_title, 'Category': category,'Duration':duration,'Socres':scores,'Score_voting':score_voting,'Amount_vote':amount_vote,'Amount_gross':amount_gross})\r\n",
        "dataset.to_csv(\"final_data.csv.csv\",sep=',')"
      ],
      "execution_count": 5,
      "outputs": []
    },
    {
      "cell_type": "markdown",
      "metadata": {
        "id": "7imPlQr3d3s0"
      },
      "source": [
        "## 2. Khám phá dữ liệu:"
      ]
    },
    {
      "cell_type": "markdown",
      "metadata": {
        "id": "fdtNn3nDd3s0"
      },
      "source": [
        "**Import các thư viện cần thiết**"
      ]
    },
    {
      "cell_type": "code",
      "metadata": {
        "id": "SG_rk4pqd3s0"
      },
      "source": [
        "%matplotlib inline\n",
        "import matplotlib.pyplot as plt\n",
        "import seaborn as sns # seaborn là thư viện được xây trên matplotlib, giúp việc visualization đỡ khổ hơn\n",
        "import pandas as pd\n",
        "import numpy as np\n",
        "\n",
        "from sklearn.model_selection import train_test_split\n",
        "from sklearn.preprocessing import OneHotEncoder, StandardScaler\n",
        "from sklearn.impute import SimpleImputer\n",
        "from sklearn.base import BaseEstimator, TransformerMixin\n",
        "from sklearn.pipeline import Pipeline, make_pipeline\n",
        "from sklearn.compose import ColumnTransformer, make_column_transformer\n",
        "from sklearn.decomposition import PCA\n",
        "from sklearn.linear_model import LinearRegression\n",
        "from sklearn.neural_network import MLPClassifier\n",
        "from sklearn.metrics import mean_absolute_error\n",
        "from sklearn import set_config\n",
        "#set_config(display='diagram') # Để trực quan hóa pipeline\n",
        "\n",
        "# You can also import other things ...\n",
        "# YOUR CODE HERE (OPTION)"
      ],
      "execution_count": 7,
      "outputs": []
    },
    {
      "cell_type": "markdown",
      "metadata": {
        "id": "48V0Fuxnd3s1"
      },
      "source": [
        "**Thiết lập màn hình để dữ liệu được hiển thị đầy đủ hơn**"
      ]
    },
    {
      "cell_type": "code",
      "metadata": {
        "id": "KGjpQ-NBd3s1"
      },
      "source": [
        "pd.set_option('max_colwidth', 10000)\n",
        "pd.set_option('display.max_rows', 500)\n",
        "pd.set_option('display.max_columns', 500)\n",
        "pd.set_option('display.width', 1000)"
      ],
      "execution_count": 8,
      "outputs": []
    },
    {
      "cell_type": "markdown",
      "metadata": {
        "id": "baietl1Dd3s2"
      },
      "source": [
        "**Đọc dữ liệu từ file final_data.csv vào Dataframe**"
      ]
    },
    {
      "cell_type": "code",
      "metadata": {
        "colab": {
          "base_uri": "https://localhost:8080/",
          "height": 204
        },
        "id": "anUbLXyAd3s2",
        "outputId": "ef82638f-70f9-49ef-c9f2-82640fd12de6"
      },
      "source": [
        "data_df = pd.read_csv('final_data.csv',index_col=0)\n",
        "data_df.head()"
      ],
      "execution_count": 9,
      "outputs": [
        {
          "output_type": "execute_result",
          "data": {
            "text/html": [
              "<div>\n",
              "<style scoped>\n",
              "    .dataframe tbody tr th:only-of-type {\n",
              "        vertical-align: middle;\n",
              "    }\n",
              "\n",
              "    .dataframe tbody tr th {\n",
              "        vertical-align: top;\n",
              "    }\n",
              "\n",
              "    .dataframe thead th {\n",
              "        text-align: right;\n",
              "    }\n",
              "</style>\n",
              "<table border=\"1\" class=\"dataframe\">\n",
              "  <thead>\n",
              "    <tr style=\"text-align: right;\">\n",
              "      <th></th>\n",
              "      <th>Title</th>\n",
              "      <th>Category</th>\n",
              "      <th>Duration</th>\n",
              "      <th>Socres</th>\n",
              "      <th>Score_voting</th>\n",
              "      <th>Amount_vote</th>\n",
              "      <th>Amount_gross</th>\n",
              "    </tr>\n",
              "  </thead>\n",
              "  <tbody>\n",
              "    <tr>\n",
              "      <th>0</th>\n",
              "      <td>Soul</td>\n",
              "      <td>Animation, Adventure, Comedy</td>\n",
              "      <td>100.0</td>\n",
              "      <td>83.0</td>\n",
              "      <td>8.1</td>\n",
              "      <td>125096.0</td>\n",
              "      <td>NaN</td>\n",
              "    </tr>\n",
              "    <tr>\n",
              "      <th>1</th>\n",
              "      <td>Tenet</td>\n",
              "      <td>Action, Sci-Fi, Thriller</td>\n",
              "      <td>150.0</td>\n",
              "      <td>69.0</td>\n",
              "      <td>7.5</td>\n",
              "      <td>262670.0</td>\n",
              "      <td>53.8</td>\n",
              "    </tr>\n",
              "    <tr>\n",
              "      <th>2</th>\n",
              "      <td>Shadow in the Cloud</td>\n",
              "      <td>Action, Horror, War</td>\n",
              "      <td>83.0</td>\n",
              "      <td>66.0</td>\n",
              "      <td>4.7</td>\n",
              "      <td>7206.0</td>\n",
              "      <td>NaN</td>\n",
              "    </tr>\n",
              "    <tr>\n",
              "      <th>3</th>\n",
              "      <td>Pieces of a Woman</td>\n",
              "      <td>Drama</td>\n",
              "      <td>126.0</td>\n",
              "      <td>67.0</td>\n",
              "      <td>7.1</td>\n",
              "      <td>10880.0</td>\n",
              "      <td>NaN</td>\n",
              "    </tr>\n",
              "    <tr>\n",
              "      <th>4</th>\n",
              "      <td>The Midnight Sky</td>\n",
              "      <td>Drama, Fantasy, Sci-Fi</td>\n",
              "      <td>118.0</td>\n",
              "      <td>58.0</td>\n",
              "      <td>5.6</td>\n",
              "      <td>55670.0</td>\n",
              "      <td>NaN</td>\n",
              "    </tr>\n",
              "  </tbody>\n",
              "</table>\n",
              "</div>"
            ],
            "text/plain": [
              "                 Title                                  Category  Duration  Socres  Score_voting  Amount_vote  Amount_gross\n",
              "0                 Soul  Animation, Adventure, Comedy                 100.0    83.0           8.1     125096.0           NaN\n",
              "1                Tenet      Action, Sci-Fi, Thriller                 150.0    69.0           7.5     262670.0          53.8\n",
              "2  Shadow in the Cloud           Action, Horror, War                  83.0    66.0           4.7       7206.0           NaN\n",
              "3    Pieces of a Woman                         Drama                 126.0    67.0           7.1      10880.0           NaN\n",
              "4     The Midnight Sky        Drama, Fantasy, Sci-Fi                 118.0    58.0           5.6      55670.0           NaN"
            ]
          },
          "metadata": {
            "tags": []
          },
          "execution_count": 9
        }
      ]
    },
    {
      "cell_type": "markdown",
      "metadata": {
        "id": "ElrOMEdTd3s3"
      },
      "source": [
        "**Tiền xử lý: đổi tên cột bị sai tên, thiết lập lại cột index là Title, xóa bỏ khoảng trống phía sau mỗi dữ liệu ở cột Category**"
      ]
    },
    {
      "cell_type": "code",
      "metadata": {
        "colab": {
          "base_uri": "https://localhost:8080/",
          "height": 450
        },
        "id": "SLbHMERod3s4",
        "outputId": "ef0635f6-230c-448c-973d-b7cb3dab8c9e"
      },
      "source": [
        "data_df.rename(columns={'Socres':'Scores'}, inplace = True)\n",
        "data_df['Category'] = data_df['Category'].str.replace(' ', '')\n",
        "data_df.set_index('Title', inplace=True)\n",
        "data_df"
      ],
      "execution_count": 10,
      "outputs": [
        {
          "output_type": "execute_result",
          "data": {
            "text/html": [
              "<div>\n",
              "<style scoped>\n",
              "    .dataframe tbody tr th:only-of-type {\n",
              "        vertical-align: middle;\n",
              "    }\n",
              "\n",
              "    .dataframe tbody tr th {\n",
              "        vertical-align: top;\n",
              "    }\n",
              "\n",
              "    .dataframe thead th {\n",
              "        text-align: right;\n",
              "    }\n",
              "</style>\n",
              "<table border=\"1\" class=\"dataframe\">\n",
              "  <thead>\n",
              "    <tr style=\"text-align: right;\">\n",
              "      <th></th>\n",
              "      <th>Category</th>\n",
              "      <th>Duration</th>\n",
              "      <th>Scores</th>\n",
              "      <th>Score_voting</th>\n",
              "      <th>Amount_vote</th>\n",
              "      <th>Amount_gross</th>\n",
              "    </tr>\n",
              "    <tr>\n",
              "      <th>Title</th>\n",
              "      <th></th>\n",
              "      <th></th>\n",
              "      <th></th>\n",
              "      <th></th>\n",
              "      <th></th>\n",
              "      <th></th>\n",
              "    </tr>\n",
              "  </thead>\n",
              "  <tbody>\n",
              "    <tr>\n",
              "      <th>Soul</th>\n",
              "      <td>Animation,Adventure,Comedy</td>\n",
              "      <td>100.0</td>\n",
              "      <td>83.0</td>\n",
              "      <td>8.1</td>\n",
              "      <td>125096.0</td>\n",
              "      <td>NaN</td>\n",
              "    </tr>\n",
              "    <tr>\n",
              "      <th>Tenet</th>\n",
              "      <td>Action,Sci-Fi,Thriller</td>\n",
              "      <td>150.0</td>\n",
              "      <td>69.0</td>\n",
              "      <td>7.5</td>\n",
              "      <td>262670.0</td>\n",
              "      <td>53.80</td>\n",
              "    </tr>\n",
              "    <tr>\n",
              "      <th>Shadow in the Cloud</th>\n",
              "      <td>Action,Horror,War</td>\n",
              "      <td>83.0</td>\n",
              "      <td>66.0</td>\n",
              "      <td>4.7</td>\n",
              "      <td>7206.0</td>\n",
              "      <td>NaN</td>\n",
              "    </tr>\n",
              "    <tr>\n",
              "      <th>Pieces of a Woman</th>\n",
              "      <td>Drama</td>\n",
              "      <td>126.0</td>\n",
              "      <td>67.0</td>\n",
              "      <td>7.1</td>\n",
              "      <td>10880.0</td>\n",
              "      <td>NaN</td>\n",
              "    </tr>\n",
              "    <tr>\n",
              "      <th>The Midnight Sky</th>\n",
              "      <td>Drama,Fantasy,Sci-Fi</td>\n",
              "      <td>118.0</td>\n",
              "      <td>58.0</td>\n",
              "      <td>5.6</td>\n",
              "      <td>55670.0</td>\n",
              "      <td>NaN</td>\n",
              "    </tr>\n",
              "    <tr>\n",
              "      <th>...</th>\n",
              "      <td>...</td>\n",
              "      <td>...</td>\n",
              "      <td>...</td>\n",
              "      <td>...</td>\n",
              "      <td>...</td>\n",
              "      <td>...</td>\n",
              "    </tr>\n",
              "    <tr>\n",
              "      <th>Permanent Midnight</th>\n",
              "      <td>Biography,Drama,Romance</td>\n",
              "      <td>88.0</td>\n",
              "      <td>57.0</td>\n",
              "      <td>6.3</td>\n",
              "      <td>6954.0</td>\n",
              "      <td>1.17</td>\n",
              "    </tr>\n",
              "    <tr>\n",
              "      <th>Tenderness</th>\n",
              "      <td>Crime,Drama,Thriller</td>\n",
              "      <td>101.0</td>\n",
              "      <td>NaN</td>\n",
              "      <td>5.5</td>\n",
              "      <td>7578.0</td>\n",
              "      <td>NaN</td>\n",
              "    </tr>\n",
              "    <tr>\n",
              "      <th>Babysitting</th>\n",
              "      <td>Comedy</td>\n",
              "      <td>85.0</td>\n",
              "      <td>NaN</td>\n",
              "      <td>6.8</td>\n",
              "      <td>9229.0</td>\n",
              "      <td>NaN</td>\n",
              "    </tr>\n",
              "    <tr>\n",
              "      <th>Legacy</th>\n",
              "      <td>Action,Thriller</td>\n",
              "      <td>98.0</td>\n",
              "      <td>NaN</td>\n",
              "      <td>3.9</td>\n",
              "      <td>286.0</td>\n",
              "      <td>NaN</td>\n",
              "    </tr>\n",
              "    <tr>\n",
              "      <th>Off the Menu</th>\n",
              "      <td>Comedy,Romance</td>\n",
              "      <td>96.0</td>\n",
              "      <td>NaN</td>\n",
              "      <td>5.7</td>\n",
              "      <td>799.0</td>\n",
              "      <td>NaN</td>\n",
              "    </tr>\n",
              "  </tbody>\n",
              "</table>\n",
              "<p>10000 rows × 6 columns</p>\n",
              "</div>"
            ],
            "text/plain": [
              "                                       Category  Duration  Scores  Score_voting  Amount_vote  Amount_gross\n",
              "Title                                                                                                     \n",
              "Soul                 Animation,Adventure,Comedy     100.0    83.0           8.1     125096.0           NaN\n",
              "Tenet                    Action,Sci-Fi,Thriller     150.0    69.0           7.5     262670.0         53.80\n",
              "Shadow in the Cloud           Action,Horror,War      83.0    66.0           4.7       7206.0           NaN\n",
              "Pieces of a Woman                         Drama     126.0    67.0           7.1      10880.0           NaN\n",
              "The Midnight Sky           Drama,Fantasy,Sci-Fi     118.0    58.0           5.6      55670.0           NaN\n",
              "...                                         ...       ...     ...           ...          ...           ...\n",
              "Permanent Midnight      Biography,Drama,Romance      88.0    57.0           6.3       6954.0          1.17\n",
              "Tenderness                 Crime,Drama,Thriller     101.0     NaN           5.5       7578.0           NaN\n",
              "Babysitting                              Comedy      85.0     NaN           6.8       9229.0           NaN\n",
              "Legacy                          Action,Thriller      98.0     NaN           3.9        286.0           NaN\n",
              "Off the Menu                     Comedy,Romance      96.0     NaN           5.7        799.0           NaN\n",
              "\n",
              "[10000 rows x 6 columns]"
            ]
          },
          "metadata": {
            "tags": []
          },
          "execution_count": 10
        }
      ]
    },
    {
      "cell_type": "markdown",
      "metadata": {
        "id": "JxK5bGKMd3s5"
      },
      "source": [
        "**Vẽ biểu đồ dữ liệu của từng cột trong dataframe để quan sát dữ liệu được dễ dàng hơn**"
      ]
    },
    {
      "cell_type": "code",
      "metadata": {
        "colab": {
          "base_uri": "https://localhost:8080/",
          "height": 610
        },
        "id": "BxusJh_Md3s5",
        "outputId": "01a34f08-9fa9-4676-b0d6-20a9ffe7ed6f"
      },
      "source": [
        "sns.set()\n",
        "data_df.hist(figsize=(10,10))\n",
        "plt.show()"
      ],
      "execution_count": 11,
      "outputs": [
        {
          "output_type": "display_data",
          "data": {
            "image/png": "[encoded data removed]",
            "text/plain": [
              "<Figure size 720x720 with 6 Axes>"
            ]
          },
          "metadata": {
            "tags": []
          }
        }
      ]
    },
    {
      "cell_type": "markdown",
      "metadata": {
        "id": "7_zv5HBQd3s6"
      },
      "source": [
        "### Dữ liệu trên có bao nhiêu dòng, bao nhiêu cột ?"
      ]
    },
    {
      "cell_type": "code",
      "metadata": {
        "colab": {
          "base_uri": "https://localhost:8080/"
        },
        "id": "NwuW1KJ0d3s6",
        "outputId": "14cb42b3-5403-4b7b-f1aa-6ab2f9325a04"
      },
      "source": [
        "num_rows_df, num_columns_df = data_df.shape\n",
        "print(\"Dữ liệu trên có {0} dòng và {1} cột\".format(num_rows_df, num_columns_df))"
      ],
      "execution_count": 12,
      "outputs": [
        {
          "output_type": "stream",
          "text": [
            "Dữ liệu trên có 10000 dòng và 6 cột\n"
          ],
          "name": "stdout"
        }
      ]
    },
    {
      "cell_type": "markdown",
      "metadata": {
        "id": "8NSyCB8Ad3s6"
      },
      "source": [
        "### Mỗi dòng, mỗi cột có ý nghĩa gì? Có vấn đề các dòng có ý nghĩa khác nhau không?"
      ]
    },
    {
      "cell_type": "markdown",
      "metadata": {
        "id": "N_Hg8Sd1d3s7"
      },
      "source": [
        "Dưới đây là phần mô tả về các cột của file \"final_data.csv\":\n",
        "- **Title**: tên của bộ phim \n",
        "- **Category**: thể loại của bộ phim \n",
        "- **Duration**: thời gian của bộ phim\n",
        "- **Scores**: điểm của bộ phim\n",
        "- **Score_voting**: điểm  voting \n",
        "- **Amount_vote**: số lượng voting\n",
        "- **Amount_gross**: danh thu của bộ phim\n",
        "\n",
        "Nhìn vào dữ liệu ở `data_df`, ta có thể thấy là mỗi dòng ứng với một danh sách thông tin của một bộ phim anime được đăng tải trên website, và không có xuất hiện trường hợp dòng có ý nghĩa khác nhau."
      ]
    },
    {
      "cell_type": "markdown",
      "metadata": {
        "id": "RViNtev3d3s7"
      },
      "source": [
        "### Dữ liệu có các dòng bị lặp không?"
      ]
    },
    {
      "cell_type": "code",
      "metadata": {
        "colab": {
          "base_uri": "https://localhost:8080/"
        },
        "id": "7hp-6Xsvd3s7",
        "outputId": "de3bbedf-8675-4b89-a78b-8c891e5871b3"
      },
      "source": [
        "data_df.index.duplicated().sum()"
      ],
      "execution_count": 13,
      "outputs": [
        {
          "output_type": "execute_result",
          "data": {
            "text/plain": [
              "255"
            ]
          },
          "metadata": {
            "tags": []
          },
          "execution_count": 13
        }
      ]
    },
    {
      "cell_type": "markdown",
      "metadata": {
        "id": "5C9EdPmOd3s8"
      },
      "source": [
        "**Tiền xử lý: loại bỏ dòng có dữ liệu bị lặp, giữ lại dòng đầu tiên**"
      ]
    },
    {
      "cell_type": "code",
      "metadata": {
        "id": "0PdS9UFud3s8"
      },
      "source": [
        "data_df = data_df.loc[~data_df.index.duplicated(keep='first')]"
      ],
      "execution_count": 14,
      "outputs": []
    },
    {
      "cell_type": "markdown",
      "metadata": {
        "id": "gdlkWeefd3s8"
      },
      "source": [
        " ### Đưa ra cầu hỏi cần trả lời\n",
        " \n",
        " #### Câu hỏi nhóm đặt ra: Dự đoán điểm của phim (cột Scores) theo tên phim dựa vào một số thông tin như thể loại phim, thời lượng, điểm do người xem đánh giá, số lượng người xem đánh giá,..\n",
        " \n",
        " #### Ý nghĩa của việc trả lời câu hỏi trên: \n",
        "  **- Đối với người xem phim trên web, việc nhìn vào điểm (Scores) của phim có thể nhận biết được phim được xem nhiều hay không, phim hay  không ? Từ đó họ dễ dàng tìm ra phim phù hợp với họ.**\n",
        "  \n",
        "  **- Đối với người làm phim thì việc dự đoán được điểm thì giúp họ tìm ra đâu là loại phim người xem đang ưa thích, xem nhiều. Từ đó, giúp học có thể xây dựng những bộ phim mang thể loại tương tự như vậy để thu hút người xem.**"
      ]
    },
    {
      "cell_type": "markdown",
      "metadata": {
        "id": "6QenZrOid3s8"
      },
      "source": [
        "### Tiếp tục quá trình khám phá dữ liệu"
      ]
    },
    {
      "cell_type": "markdown",
      "metadata": {
        "id": "1av5QnGEd3s9"
      },
      "source": [
        "### Cột output có dtype là gì ? Cột output có giá trị thiếu hay không ? Tỉ lệ các lớp trong cột output ?"
      ]
    },
    {
      "cell_type": "code",
      "metadata": {
        "id": "rfI3Hmakd3s9",
        "outputId": "3814be2f-6ef3-4cff-bdc6-3acf8ea2e663"
      },
      "source": [
        "data_df['Scores'].dtype"
      ],
      "execution_count": null,
      "outputs": [
        {
          "output_type": "execute_result",
          "data": {
            "text/plain": [
              "dtype('float64')"
            ]
          },
          "metadata": {
            "tags": []
          },
          "execution_count": 9
        }
      ]
    },
    {
      "cell_type": "code",
      "metadata": {
        "id": "VAFwxFmld3s9",
        "outputId": "669ff052-a39b-47ba-dc9f-089425dc29ac"
      },
      "source": [
        "data_df['Scores'].isna().sum()"
      ],
      "execution_count": null,
      "outputs": [
        {
          "output_type": "execute_result",
          "data": {
            "text/plain": [
              "3067"
            ]
          },
          "metadata": {
            "tags": []
          },
          "execution_count": 10
        }
      ]
    },
    {
      "cell_type": "code",
      "metadata": {
        "id": "nxg8ZbV8d3s9",
        "outputId": "bc7cedbd-c672-4e5d-ff74-aedeb5ccf075"
      },
      "source": [
        "data_df['Scores'].value_counts(normalize=True) * 100"
      ],
      "execution_count": null,
      "outputs": [
        {
          "output_type": "execute_result",
          "data": {
            "text/plain": [
              "52.0     2.213912\n",
              "58.0     2.183994\n",
              "64.0     2.169035\n",
              "65.0     2.154076\n",
              "49.0     2.124159\n",
              "45.0     2.109200\n",
              "54.0     2.079282\n",
              "55.0     2.079282\n",
              "66.0     2.034405\n",
              "53.0     1.974570\n",
              "61.0     1.974570\n",
              "56.0     1.959611\n",
              "51.0     1.944652\n",
              "57.0     1.944652\n",
              "47.0     1.944652\n",
              "63.0     1.914734\n",
              "48.0     1.914734\n",
              "60.0     1.899776\n",
              "62.0     1.899776\n",
              "68.0     1.854899\n",
              "69.0     1.810022\n",
              "59.0     1.795064\n",
              "42.0     1.765146\n",
              "46.0     1.750187\n",
              "44.0     1.735228\n",
              "43.0     1.720269\n",
              "67.0     1.720269\n",
              "50.0     1.690352\n",
              "71.0     1.630516\n",
              "72.0     1.615557\n",
              "36.0     1.585639\n",
              "73.0     1.540763\n",
              "37.0     1.540763\n",
              "41.0     1.495886\n",
              "39.0     1.465969\n",
              "70.0     1.451010\n",
              "40.0     1.451010\n",
              "38.0     1.436051\n",
              "75.0     1.376215\n",
              "33.0     1.331339\n",
              "34.0     1.286462\n",
              "35.0     1.286462\n",
              "76.0     1.271503\n",
              "74.0     1.256545\n",
              "31.0     1.181750\n",
              "81.0     1.151832\n",
              "78.0     1.062079\n",
              "30.0     1.062079\n",
              "77.0     1.047120\n",
              "79.0     0.972326\n",
              "82.0     0.927450\n",
              "80.0     0.897532\n",
              "28.0     0.882573\n",
              "32.0     0.882573\n",
              "83.0     0.807779\n",
              "84.0     0.762902\n",
              "27.0     0.747943\n",
              "25.0     0.747943\n",
              "24.0     0.703067\n",
              "85.0     0.703067\n",
              "29.0     0.658190\n",
              "86.0     0.583396\n",
              "26.0     0.553478\n",
              "22.0     0.508601\n",
              "87.0     0.508601\n",
              "23.0     0.463725\n",
              "88.0     0.433807\n",
              "90.0     0.418848\n",
              "18.0     0.388930\n",
              "21.0     0.373972\n",
              "19.0     0.329095\n",
              "89.0     0.314136\n",
              "91.0     0.224383\n",
              "20.0     0.224383\n",
              "94.0     0.209424\n",
              "16.0     0.209424\n",
              "17.0     0.194465\n",
              "14.0     0.164547\n",
              "92.0     0.149589\n",
              "9.0      0.149589\n",
              "15.0     0.149589\n",
              "96.0     0.134630\n",
              "95.0     0.104712\n",
              "11.0     0.104712\n",
              "93.0     0.104712\n",
              "12.0     0.089753\n",
              "13.0     0.089753\n",
              "10.0     0.059835\n",
              "7.0      0.044877\n",
              "1.0      0.029918\n",
              "98.0     0.014959\n",
              "99.0     0.014959\n",
              "5.0      0.014959\n",
              "6.0      0.014959\n",
              "97.0     0.014959\n",
              "8.0      0.014959\n",
              "100.0    0.014959\n",
              "Name: Scores, dtype: float64"
            ]
          },
          "metadata": {
            "tags": []
          },
          "execution_count": 11
        }
      ]
    },
    {
      "cell_type": "markdown",
      "metadata": {
        "id": "ilxuZMPNd3s-"
      },
      "source": [
        "**Tiền xử lý:  cột output**"
      ]
    },
    {
      "cell_type": "markdown",
      "metadata": {
        "id": "jFU5uMYMd3s-"
      },
      "source": [
        "Đầu tiên, tiến hành loại bỏ các phim có cột ouput trống.\n",
        "\n",
        "Sau đó, do cột output có quá nhiều giá trị trãi dài từ 1-100, dữ liệu còn lại thì khá ít nên có thể không khả thi để đưa vào mô hình dự đoán Scores nếu để nguyên như vậy. Nên nhóm tiến hành chia khoảng cho cột ouput này. Cụ thể, sẽ chia thành 5 khoảng giá trị: 0-20 điểm: 2 (loại F); 21-40 điểm: 4 (loại D); 41-60 điểm: 6 (loại C); 61-80 điểm: 8 (loại B); 81-100 điểm: 10 (loại A)."
      ]
    },
    {
      "cell_type": "code",
      "metadata": {
        "colab": {
          "base_uri": "https://localhost:8080/"
        },
        "id": "D9wtkVbGd3s-",
        "outputId": "03697981-d4d6-4753-a225-0f0b2822946b"
      },
      "source": [
        "data_df = data_df.dropna(axis=0, subset=['Scores'])\n",
        "data_df[\"Scores\"] = data_df[\"Scores\"].astype(float)\n",
        "\n",
        "def extractName(x):\n",
        "    if x > 0.0 and x <= 20.0:\n",
        "        return 2.0\n",
        "    elif x > 20.0 and x <= 40.0:\n",
        "        return 4.0\n",
        "    elif x > 40.0 and x <= 60.0:\n",
        "        return 6.0\n",
        "    elif x > 60.0 and x <= 80.0:\n",
        "        return 8.0\n",
        "    else:\n",
        "        return 10.0\n",
        "data_df['Scores'] = data_df['Scores'].apply(lambda x : extractName(x))\n",
        "#Các lớp giá trị của output sau khi tiền xử lý\n",
        "data_df['Scores'].value_counts(normalize=True) * 100"
      ],
      "execution_count": 15,
      "outputs": [
        {
          "output_type": "execute_result",
          "data": {
            "text/plain": [
              "6.0     38.486744\n",
              "8.0     31.799225\n",
              "4.0     19.839142\n",
              "10.0     7.566279\n",
              "2.0      2.308609\n",
              "Name: Scores, dtype: float64"
            ]
          },
          "metadata": {
            "tags": []
          },
          "execution_count": 15
        }
      ]
    },
    {
      "cell_type": "markdown",
      "metadata": {
        "id": "vm6PpmVpd3s_"
      },
      "source": [
        "### Tiền xử lý (tách các tập dữ liệu từ tập dữ liệu gốc)"
      ]
    },
    {
      "cell_type": "markdown",
      "metadata": {
        "id": "AmCBbF7zd3s_"
      },
      "source": [
        "Dữ liệu gốc sẽ được tách thành 3 tập: tập train, tập validation với tỉ lệ 7:3"
      ]
    },
    {
      "cell_type": "code",
      "metadata": {
        "colab": {
          "base_uri": "https://localhost:8080/"
        },
        "id": "sv1NkMJ3d3s_",
        "outputId": "1500e619-f213-42cd-fa26-68c89e259b3c"
      },
      "source": [
        "y_data = data_df[\"Scores\"].copy()\n",
        "y_data.head()"
      ],
      "execution_count": 16,
      "outputs": [
        {
          "output_type": "execute_result",
          "data": {
            "text/plain": [
              "Title\n",
              "Soul                   10.0\n",
              "Tenet                   8.0\n",
              "Shadow in the Cloud     8.0\n",
              "Pieces of a Woman       8.0\n",
              "The Midnight Sky        6.0\n",
              "Name: Scores, dtype: float64"
            ]
          },
          "metadata": {
            "tags": []
          },
          "execution_count": 16
        }
      ]
    },
    {
      "cell_type": "code",
      "metadata": {
        "colab": {
          "base_uri": "https://localhost:8080/",
          "height": 235
        },
        "id": "vITLOtOQd3s_",
        "outputId": "bd5501eb-f58c-417e-c14d-6ea2307a0d59"
      },
      "source": [
        "X_data = data_df.drop('Scores',axis = 1)\n",
        "X_data.head()"
      ],
      "execution_count": 17,
      "outputs": [
        {
          "output_type": "execute_result",
          "data": {
            "text/html": [
              "<div>\n",
              "<style scoped>\n",
              "    .dataframe tbody tr th:only-of-type {\n",
              "        vertical-align: middle;\n",
              "    }\n",
              "\n",
              "    .dataframe tbody tr th {\n",
              "        vertical-align: top;\n",
              "    }\n",
              "\n",
              "    .dataframe thead th {\n",
              "        text-align: right;\n",
              "    }\n",
              "</style>\n",
              "<table border=\"1\" class=\"dataframe\">\n",
              "  <thead>\n",
              "    <tr style=\"text-align: right;\">\n",
              "      <th></th>\n",
              "      <th>Category</th>\n",
              "      <th>Duration</th>\n",
              "      <th>Score_voting</th>\n",
              "      <th>Amount_vote</th>\n",
              "      <th>Amount_gross</th>\n",
              "    </tr>\n",
              "    <tr>\n",
              "      <th>Title</th>\n",
              "      <th></th>\n",
              "      <th></th>\n",
              "      <th></th>\n",
              "      <th></th>\n",
              "      <th></th>\n",
              "    </tr>\n",
              "  </thead>\n",
              "  <tbody>\n",
              "    <tr>\n",
              "      <th>Soul</th>\n",
              "      <td>Animation,Adventure,Comedy</td>\n",
              "      <td>100.0</td>\n",
              "      <td>8.1</td>\n",
              "      <td>125096.0</td>\n",
              "      <td>NaN</td>\n",
              "    </tr>\n",
              "    <tr>\n",
              "      <th>Tenet</th>\n",
              "      <td>Action,Sci-Fi,Thriller</td>\n",
              "      <td>150.0</td>\n",
              "      <td>7.5</td>\n",
              "      <td>262670.0</td>\n",
              "      <td>53.8</td>\n",
              "    </tr>\n",
              "    <tr>\n",
              "      <th>Shadow in the Cloud</th>\n",
              "      <td>Action,Horror,War</td>\n",
              "      <td>83.0</td>\n",
              "      <td>4.7</td>\n",
              "      <td>7206.0</td>\n",
              "      <td>NaN</td>\n",
              "    </tr>\n",
              "    <tr>\n",
              "      <th>Pieces of a Woman</th>\n",
              "      <td>Drama</td>\n",
              "      <td>126.0</td>\n",
              "      <td>7.1</td>\n",
              "      <td>10880.0</td>\n",
              "      <td>NaN</td>\n",
              "    </tr>\n",
              "    <tr>\n",
              "      <th>The Midnight Sky</th>\n",
              "      <td>Drama,Fantasy,Sci-Fi</td>\n",
              "      <td>118.0</td>\n",
              "      <td>5.6</td>\n",
              "      <td>55670.0</td>\n",
              "      <td>NaN</td>\n",
              "    </tr>\n",
              "  </tbody>\n",
              "</table>\n",
              "</div>"
            ],
            "text/plain": [
              "                                       Category  Duration  Score_voting  Amount_vote  Amount_gross\n",
              "Title                                                                                             \n",
              "Soul                 Animation,Adventure,Comedy     100.0           8.1     125096.0           NaN\n",
              "Tenet                    Action,Sci-Fi,Thriller     150.0           7.5     262670.0          53.8\n",
              "Shadow in the Cloud           Action,Horror,War      83.0           4.7       7206.0           NaN\n",
              "Pieces of a Woman                         Drama     126.0           7.1      10880.0           NaN\n",
              "The Midnight Sky           Drama,Fantasy,Sci-Fi     118.0           5.6      55670.0           NaN"
            ]
          },
          "metadata": {
            "tags": []
          },
          "execution_count": 17
        }
      ]
    },
    {
      "cell_type": "code",
      "metadata": {
        "id": "eUqJEam2d3tA"
      },
      "source": [
        "# Tách dữ liệu thành 3 tập train : test : validation = 6:2:2\n",
        "X_data_temp, X_data_val, y_data_temp, y_data_val = train_test_split(X_data, y_data, test_size=0.2, random_state=0)\n",
        "X_data_train, X_data_test, y_data_train, y_data_test = train_test_split(X_data_temp, y_data_temp, test_size=0.25, random_state=0)"
      ],
      "execution_count": 18,
      "outputs": []
    },
    {
      "cell_type": "code",
      "metadata": {
        "colab": {
          "base_uri": "https://localhost:8080/"
        },
        "id": "9z5ZrxTfd3tA",
        "outputId": "2fe987db-34d5-42e2-ed43-1ae029ee7398"
      },
      "source": [
        "X_data_train.shape"
      ],
      "execution_count": 19,
      "outputs": [
        {
          "output_type": "execute_result",
          "data": {
            "text/plain": [
              "(4028, 5)"
            ]
          },
          "metadata": {
            "tags": []
          },
          "execution_count": 19
        }
      ]
    },
    {
      "cell_type": "code",
      "metadata": {
        "colab": {
          "base_uri": "https://localhost:8080/"
        },
        "id": "NwuCOQlxd3tA",
        "outputId": "dc4ec3d8-5aef-4bc7-a51c-87cbd39f1e10"
      },
      "source": [
        "y_data_train.shape"
      ],
      "execution_count": 20,
      "outputs": [
        {
          "output_type": "execute_result",
          "data": {
            "text/plain": [
              "(4028,)"
            ]
          },
          "metadata": {
            "tags": []
          },
          "execution_count": 20
        }
      ]
    },
    {
      "cell_type": "code",
      "metadata": {
        "colab": {
          "base_uri": "https://localhost:8080/"
        },
        "id": "PXOWgcVud3tB",
        "outputId": "a008f528-0e7d-4253-fff1-c2677b8ab431"
      },
      "source": [
        "X_data_val.shape"
      ],
      "execution_count": 21,
      "outputs": [
        {
          "output_type": "execute_result",
          "data": {
            "text/plain": [
              "(1343, 5)"
            ]
          },
          "metadata": {
            "tags": []
          },
          "execution_count": 21
        }
      ]
    },
    {
      "cell_type": "code",
      "metadata": {
        "colab": {
          "base_uri": "https://localhost:8080/"
        },
        "id": "bb62Y_Nhd3tB",
        "outputId": "5ce2686a-14fb-4987-9421-7b0c3c956d85"
      },
      "source": [
        "y_data_val.shape"
      ],
      "execution_count": 22,
      "outputs": [
        {
          "output_type": "execute_result",
          "data": {
            "text/plain": [
              "(1343,)"
            ]
          },
          "metadata": {
            "tags": []
          },
          "execution_count": 22
        }
      ]
    },
    {
      "cell_type": "code",
      "metadata": {
        "colab": {
          "base_uri": "https://localhost:8080/"
        },
        "id": "UadWTY2td3tB",
        "outputId": "cd6e4073-8fc2-4b8a-a0fa-94aba32c9a39"
      },
      "source": [
        "X_data_test.shape"
      ],
      "execution_count": 23,
      "outputs": [
        {
          "output_type": "execute_result",
          "data": {
            "text/plain": [
              "(1343, 5)"
            ]
          },
          "metadata": {
            "tags": []
          },
          "execution_count": 23
        }
      ]
    },
    {
      "cell_type": "code",
      "metadata": {
        "colab": {
          "base_uri": "https://localhost:8080/"
        },
        "id": "CpqJWWnwd3tB",
        "outputId": "28565311-9e7e-43c4-b713-65b7d823c2f7"
      },
      "source": [
        "y_data_test.shape"
      ],
      "execution_count": 24,
      "outputs": [
        {
          "output_type": "execute_result",
          "data": {
            "text/plain": [
              "(1343,)"
            ]
          },
          "metadata": {
            "tags": []
          },
          "execution_count": 24
        }
      ]
    },
    {
      "cell_type": "code",
      "metadata": {
        "colab": {
          "base_uri": "https://localhost:8080/"
        },
        "id": "SvMzJ4b7d3tC",
        "outputId": "8be23c4b-6fe6-4205-aafc-ea87218b3c0e"
      },
      "source": [
        "X_data_train.head().index"
      ],
      "execution_count": 25,
      "outputs": [
        {
          "output_type": "execute_result",
          "data": {
            "text/plain": [
              "Index(['Dead in a Week Or Your Money Back', 'Danny Collins', 'The Mother', 'Vita & Virginia', 'White Bird in a Blizzard'], dtype='object', name='Title')"
            ]
          },
          "metadata": {
            "tags": []
          },
          "execution_count": 25
        }
      ]
    },
    {
      "cell_type": "markdown",
      "metadata": {
        "id": "eNoMHl9Kd3tC"
      },
      "source": [
        "## Khám phá dữ liệu tập huấn luyện (validation)"
      ]
    },
    {
      "cell_type": "markdown",
      "metadata": {
        "id": "_AA5oTB2d3tC"
      },
      "source": [
        "### Mỗi cột input hiện đang có kiểu dữ liệu gì? Có cột nào có kiểu dữ liệu chưa phù hợp để có thể xử lý tiếp không?"
      ]
    },
    {
      "cell_type": "code",
      "metadata": {
        "colab": {
          "base_uri": "https://localhost:8080/"
        },
        "id": "EW5S04kSd3tC",
        "outputId": "326372a5-7539-47c5-84f6-6dfcbb07fec2"
      },
      "source": [
        "X_data_train.dtypes"
      ],
      "execution_count": 26,
      "outputs": [
        {
          "output_type": "execute_result",
          "data": {
            "text/plain": [
              "Category         object\n",
              "Duration        float64\n",
              "Score_voting    float64\n",
              "Amount_vote     float64\n",
              "Amount_gross    float64\n",
              "dtype: object"
            ]
          },
          "metadata": {
            "tags": []
          },
          "execution_count": 26
        }
      ]
    },
    {
      "cell_type": "markdown",
      "metadata": {
        "id": "NbE4gDZbd3tD"
      },
      "source": [
        "Các cột đều có giá trị phù hợp"
      ]
    },
    {
      "cell_type": "markdown",
      "metadata": {
        "id": "gPwI5RKWd3tD"
      },
      "source": [
        "### Với mỗi cột input có kiểu dữ liệu dạng số, các giá trị được phân bố như thế nào?"
      ]
    },
    {
      "cell_type": "code",
      "metadata": {
        "colab": {
          "base_uri": "https://localhost:8080/",
          "height": 235
        },
        "id": "FY3POkV_d3tD",
        "outputId": "611c2b2d-7e86-42dd-f354-1d7217c87148"
      },
      "source": [
        "num_cols = ['Duration', 'Score_voting', 'Amount_vote', 'Amount_gross']\n",
        "df = X_data_train[num_cols]\n",
        "def missing_ratio(df):\n",
        "    return (df.isna().mean() * 100).round(1)\n",
        "def lower_quartile(df):\n",
        "    return df.quantile(0.25).round(1)\n",
        "def median(df):\n",
        "    return df.quantile(0.5).round(1)\n",
        "def upper_quartile(df):\n",
        "    return df.quantile(0.75).round(1)\n",
        "df.agg([missing_ratio, 'min', lower_quartile, median, upper_quartile, 'max'])\n"
      ],
      "execution_count": 27,
      "outputs": [
        {
          "output_type": "execute_result",
          "data": {
            "text/html": [
              "<div>\n",
              "<style scoped>\n",
              "    .dataframe tbody tr th:only-of-type {\n",
              "        vertical-align: middle;\n",
              "    }\n",
              "\n",
              "    .dataframe tbody tr th {\n",
              "        vertical-align: top;\n",
              "    }\n",
              "\n",
              "    .dataframe thead th {\n",
              "        text-align: right;\n",
              "    }\n",
              "</style>\n",
              "<table border=\"1\" class=\"dataframe\">\n",
              "  <thead>\n",
              "    <tr style=\"text-align: right;\">\n",
              "      <th></th>\n",
              "      <th>Duration</th>\n",
              "      <th>Score_voting</th>\n",
              "      <th>Amount_vote</th>\n",
              "      <th>Amount_gross</th>\n",
              "    </tr>\n",
              "  </thead>\n",
              "  <tbody>\n",
              "    <tr>\n",
              "      <th>missing_ratio</th>\n",
              "      <td>0.0</td>\n",
              "      <td>0.0</td>\n",
              "      <td>0.0</td>\n",
              "      <td>22.90</td>\n",
              "    </tr>\n",
              "    <tr>\n",
              "      <th>min</th>\n",
              "      <td>51.0</td>\n",
              "      <td>1.9</td>\n",
              "      <td>20.0</td>\n",
              "      <td>0.00</td>\n",
              "    </tr>\n",
              "    <tr>\n",
              "      <th>lower_quartile</th>\n",
              "      <td>94.0</td>\n",
              "      <td>5.8</td>\n",
              "      <td>10293.5</td>\n",
              "      <td>1.20</td>\n",
              "    </tr>\n",
              "    <tr>\n",
              "      <th>median</th>\n",
              "      <td>103.0</td>\n",
              "      <td>6.4</td>\n",
              "      <td>30637.0</td>\n",
              "      <td>16.60</td>\n",
              "    </tr>\n",
              "    <tr>\n",
              "      <th>upper_quartile</th>\n",
              "      <td>115.0</td>\n",
              "      <td>7.0</td>\n",
              "      <td>92977.2</td>\n",
              "      <td>53.20</td>\n",
              "    </tr>\n",
              "    <tr>\n",
              "      <th>max</th>\n",
              "      <td>366.0</td>\n",
              "      <td>9.0</td>\n",
              "      <td>2294465.0</td>\n",
              "      <td>760.51</td>\n",
              "    </tr>\n",
              "  </tbody>\n",
              "</table>\n",
              "</div>"
            ],
            "text/plain": [
              "                Duration  Score_voting  Amount_vote  Amount_gross\n",
              "missing_ratio        0.0           0.0          0.0         22.90\n",
              "min                 51.0           1.9         20.0          0.00\n",
              "lower_quartile      94.0           5.8      10293.5          1.20\n",
              "median             103.0           6.4      30637.0         16.60\n",
              "upper_quartile     115.0           7.0      92977.2         53.20\n",
              "max                366.0           9.0    2294465.0        760.51"
            ]
          },
          "metadata": {
            "tags": []
          },
          "execution_count": 27
        }
      ]
    },
    {
      "cell_type": "markdown",
      "metadata": {
        "id": "NsHoE16Ed3tE"
      },
      "source": [
        "### Với mỗi cột input không phải kiểu dữ liệu dạng số, các giá trị được phân bố như thế nào?"
      ]
    },
    {
      "cell_type": "code",
      "metadata": {
        "colab": {
          "base_uri": "https://localhost:8080/",
          "height": 516
        },
        "id": "dOmhFaXqd3tE",
        "outputId": "da6fe8c9-2884-4381-855f-74832c86be9a"
      },
      "source": [
        "cat_cols = ['Category']\n",
        "df = X_data_train[cat_cols]\n",
        "def missing_ratio(df):\n",
        "    return (df.isna().mean() * 100).round(1)\n",
        "def num_values(df):\n",
        "    return df.nunique()\n",
        "def value_ratios(c):\n",
        "    return dict((c.value_counts(normalize=True) * 100).round(1))\n",
        "df.agg([missing_ratio, num_values, value_ratios])"
      ],
      "execution_count": 28,
      "outputs": [
        {
          "output_type": "execute_result",
          "data": {
            "text/html": [
              "<div>\n",
              "<style scoped>\n",
              "    .dataframe tbody tr th:only-of-type {\n",
              "        vertical-align: middle;\n",
              "    }\n",
              "\n",
              "    .dataframe tbody tr th {\n",
              "        vertical-align: top;\n",
              "    }\n",
              "\n",
              "    .dataframe thead th {\n",
              "        text-align: right;\n",
              "    }\n",
              "</style>\n",
              "<table border=\"1\" class=\"dataframe\">\n",
              "  <thead>\n",
              "    <tr style=\"text-align: right;\">\n",
              "      <th></th>\n",
              "      <th>Category</th>\n",
              "    </tr>\n",
              "  </thead>\n",
              "  <tbody>\n",
              "    <tr>\n",
              "      <th>missing_ratio</th>\n",
              "      <td>0</td>\n",
              "    </tr>\n",
              "    <tr>\n",
              "      <th>num_values</th>\n",
              "      <td>313</td>\n",
              "    </tr>\n",
              "    <tr>\n",
              "      <th>value_ratios</th>\n",
              "      <td>{'Drama': 6.4, 'Comedy,Drama': 5.1, 'Comedy,Drama,Romance': 5.0, 'Drama,Romance': 3.5, 'Comedy,Romance': 3.1, 'Comedy': 3.0, 'Action,Crime,Drama': 2.6, 'Animation,Adventure,Comedy': 2.5, 'Crime,Drama,Thriller': 2.1, 'Action,Adventure,Sci-Fi': 1.7, 'Action,Adventure,Comedy': 1.7, 'Action,Crime,Thriller': 1.6, 'Crime,Drama,Mystery': 1.6, 'Action,Comedy,Crime': 1.5, 'Horror,Mystery,Thriller': 1.5, 'Action,Adventure,Fantasy': 1.4, 'Biography,Drama': 1.4, 'Biography,Drama,History': 1.4, 'Action,Adventure,Drama': 1.3, 'Drama,Thriller': 1.3, 'Comedy,Crime,Drama': 1.1, 'Crime,Drama': 1.1, 'Horror,Thriller': 1.1, 'Action,Thriller': 1.0, 'Drama,Mystery,Thriller': 1.0, 'Biography,Crime,Drama': 1.0, 'Drama,Horror,Mystery': 1.0, 'Action,Drama,Thriller': 0.8, 'Biography,Comedy,Drama': 0.8, 'Animation,Action,Adventure': 0.8, 'Biography,Drama,Romance': 0.7, 'Drama,Music,Romance': 0.7, 'Adventure,Comedy,Family': 0.7, 'Action,Drama,History': 0.7, 'Action,Adventure,Thriller': 0.7, 'Drama,Mystery,Romance': 0.7, 'Drama,Fantasy,Horror': 0.6, 'Biography,Drama,Sport': 0.6, 'Drama,Music': 0.6, 'Comedy,Drama,Music': 0.5, 'Comedy,Crime': 0.5, 'Comedy,Family,Fantasy': 0.5, 'Horror': 0.5, 'Drama,Horror,Thriller': 0.5, 'Thriller': 0.5, 'Comedy,Horror': 0.5, 'Adventure,Family,Fantasy': 0.5, 'Horror,Mystery': 0.5, 'Comedy,Family': 0.4, 'Comedy,Drama,Fantasy': 0.4, 'Drama,Mystery': 0.4, 'Adventure,Comedy,Drama': 0.4, 'Action,Biography,Drama': 0.4, 'Drama,Fantasy,Romance': 0.4, 'Drama,Sport': 0.4, 'Animation,Adventure,Family': 0.4, 'Action,Adventure,Crime': 0.4, 'Biography,Drama,Music': 0.4, 'Drama,Mystery,Sci-Fi': 0.4, 'Adventure,Biography,Drama': 0.4, 'Comedy,Drama,Family': 0.4, 'Drama,Sci-Fi,Thriller': 0.4, 'Action,Drama,Sci-Fi': 0.3, 'Crime,Thriller': 0.3, 'Action,Sci-Fi,Thriller': 0.3, 'Drama,War': 0.3, 'Action,Horror,Sci-Fi': 0.3, 'Crime,Mystery,Thriller': 0.3, 'Biography,Comedy,Crime': 0.3, 'Crime,Drama,Romance': 0.3, 'Drama,Fantasy': 0.3, 'Drama,Romance,Thriller': 0.3, 'Horror,Sci-Fi,Thriller': 0.3, 'Comedy,Fantasy,Horror': 0.3, 'Action,Adventure,Horror': 0.3, 'Drama,Fantasy,Mystery': 0.3, 'Adventure,Drama,Family': 0.3, 'Action,Drama': 0.3, 'Action,Adventure,Family': 0.3, 'Comedy,Sport': 0.3, 'Comedy,Crime,Thriller': 0.3, 'Comedy,Family,Romance': 0.3, 'Crime,Drama,Horror': 0.3, 'Drama,History,Thriller': 0.3, 'Action,Comedy': 0.2, 'Fantasy,Horror,Mystery': 0.2, 'Drama,Romance,Sci-Fi': 0.2, 'Horror,Mystery,Sci-Fi': 0.2, 'Action,Horror,Thriller': 0.2, 'Biography,Drama,Thriller': 0.2, 'Comedy,Music': 0.2, 'Drama,Romance,War': 0.2, 'Animation,Adventure,Drama': 0.2, 'Animation,Comedy,Family': 0.2, 'Action,Drama,Mystery': 0.2, 'Comedy,Fantasy,Romance': 0.2, 'Crime,Drama,History': 0.2, 'Action,Drama,War': 0.2, 'Action,Sci-Fi': 0.2, 'Comedy,Crime,Romance': 0.2, ...}</td>\n",
              "    </tr>\n",
              "  </tbody>\n",
              "</table>\n",
              "</div>"
            ],
            "text/plain": [
              "                                                                                                                                                                                                                                                                                                                                                                                                                                                                                                                                                                                                                                                                                                                                                                                                                                                                                                                                                                                                                                                                                                                                                                                                                                                                                                                                                                                                                                                                                                                                                                                                                                                                                                                                                                                                                                                                                                                                                                                                                                                                                                                                                                                                                                                                                                                                                                                                                                                                                                                                                                                                                                                                                                                                                                                                                                                                                                    Category\n",
              "missing_ratio                                                                                                                                                                                                                                                                                                                                                                                                                                                                                                                                                                                                                                                                                                                                                                                                                                                                                                                                                                                                                                                                                                                                                                                                                                                                                                                                                                                                                                                                                                                                                                                                                                                                                                                                                                                                                                                                                                                                                                                                                                                                                                                                                                                                                                                                                                                                                                                                                                                                                                                                                                                                                                                                                                                                                                                                                                                                                              0\n",
              "num_values                                                                                                                                                                                                                                                                                                                                                                                                                                                                                                                                                                                                                                                                                                                                                                                                                                                                                                                                                                                                                                                                                                                                                                                                                                                                                                                                                                                                                                                                                                                                                                                                                                                                                                                                                                                                                                                                                                                                                                                                                                                                                                                                                                                                                                                                                                                                                                                                                                                                                                                                                                                                                                                                                                                                                                                                                                                                                               313\n",
              "value_ratios   {'Drama': 6.4, 'Comedy,Drama': 5.1, 'Comedy,Drama,Romance': 5.0, 'Drama,Romance': 3.5, 'Comedy,Romance': 3.1, 'Comedy': 3.0, 'Action,Crime,Drama': 2.6, 'Animation,Adventure,Comedy': 2.5, 'Crime,Drama,Thriller': 2.1, 'Action,Adventure,Sci-Fi': 1.7, 'Action,Adventure,Comedy': 1.7, 'Action,Crime,Thriller': 1.6, 'Crime,Drama,Mystery': 1.6, 'Action,Comedy,Crime': 1.5, 'Horror,Mystery,Thriller': 1.5, 'Action,Adventure,Fantasy': 1.4, 'Biography,Drama': 1.4, 'Biography,Drama,History': 1.4, 'Action,Adventure,Drama': 1.3, 'Drama,Thriller': 1.3, 'Comedy,Crime,Drama': 1.1, 'Crime,Drama': 1.1, 'Horror,Thriller': 1.1, 'Action,Thriller': 1.0, 'Drama,Mystery,Thriller': 1.0, 'Biography,Crime,Drama': 1.0, 'Drama,Horror,Mystery': 1.0, 'Action,Drama,Thriller': 0.8, 'Biography,Comedy,Drama': 0.8, 'Animation,Action,Adventure': 0.8, 'Biography,Drama,Romance': 0.7, 'Drama,Music,Romance': 0.7, 'Adventure,Comedy,Family': 0.7, 'Action,Drama,History': 0.7, 'Action,Adventure,Thriller': 0.7, 'Drama,Mystery,Romance': 0.7, 'Drama,Fantasy,Horror': 0.6, 'Biography,Drama,Sport': 0.6, 'Drama,Music': 0.6, 'Comedy,Drama,Music': 0.5, 'Comedy,Crime': 0.5, 'Comedy,Family,Fantasy': 0.5, 'Horror': 0.5, 'Drama,Horror,Thriller': 0.5, 'Thriller': 0.5, 'Comedy,Horror': 0.5, 'Adventure,Family,Fantasy': 0.5, 'Horror,Mystery': 0.5, 'Comedy,Family': 0.4, 'Comedy,Drama,Fantasy': 0.4, 'Drama,Mystery': 0.4, 'Adventure,Comedy,Drama': 0.4, 'Action,Biography,Drama': 0.4, 'Drama,Fantasy,Romance': 0.4, 'Drama,Sport': 0.4, 'Animation,Adventure,Family': 0.4, 'Action,Adventure,Crime': 0.4, 'Biography,Drama,Music': 0.4, 'Drama,Mystery,Sci-Fi': 0.4, 'Adventure,Biography,Drama': 0.4, 'Comedy,Drama,Family': 0.4, 'Drama,Sci-Fi,Thriller': 0.4, 'Action,Drama,Sci-Fi': 0.3, 'Crime,Thriller': 0.3, 'Action,Sci-Fi,Thriller': 0.3, 'Drama,War': 0.3, 'Action,Horror,Sci-Fi': 0.3, 'Crime,Mystery,Thriller': 0.3, 'Biography,Comedy,Crime': 0.3, 'Crime,Drama,Romance': 0.3, 'Drama,Fantasy': 0.3, 'Drama,Romance,Thriller': 0.3, 'Horror,Sci-Fi,Thriller': 0.3, 'Comedy,Fantasy,Horror': 0.3, 'Action,Adventure,Horror': 0.3, 'Drama,Fantasy,Mystery': 0.3, 'Adventure,Drama,Family': 0.3, 'Action,Drama': 0.3, 'Action,Adventure,Family': 0.3, 'Comedy,Sport': 0.3, 'Comedy,Crime,Thriller': 0.3, 'Comedy,Family,Romance': 0.3, 'Crime,Drama,Horror': 0.3, 'Drama,History,Thriller': 0.3, 'Action,Comedy': 0.2, 'Fantasy,Horror,Mystery': 0.2, 'Drama,Romance,Sci-Fi': 0.2, 'Horror,Mystery,Sci-Fi': 0.2, 'Action,Horror,Thriller': 0.2, 'Biography,Drama,Thriller': 0.2, 'Comedy,Music': 0.2, 'Drama,Romance,War': 0.2, 'Animation,Adventure,Drama': 0.2, 'Animation,Comedy,Family': 0.2, 'Action,Drama,Mystery': 0.2, 'Comedy,Fantasy,Romance': 0.2, 'Crime,Drama,History': 0.2, 'Action,Drama,War': 0.2, 'Action,Sci-Fi': 0.2, 'Comedy,Crime,Romance': 0.2, ...}"
            ]
          },
          "metadata": {
            "tags": []
          },
          "execution_count": 28
        }
      ]
    },
    {
      "cell_type": "markdown",
      "metadata": {
        "id": "s6qZqdRsd3tF"
      },
      "source": [
        "## Tiền xử lý tập huấn luyên (train)"
      ]
    },
    {
      "cell_type": "markdown",
      "metadata": {
        "id": "QTQAiycvd3tF"
      },
      "source": [
        "Với cột 'Category' là dạng multi_choice, ta sẽ tiến hành phân mảnh cột ra, vì trong tên thì phần này có vẻ là sẽ có ích cho việc dự đoán điểm của phim dựa vào thể loại phim. Tuy nhiên, khi phân mảnh ra thì cột đó vẫn còn nhiều giá trị khác nhau trong tập huấn luyện. Ta sẽ xử lý vấn đề này như sau: sử dụng num_topCate, tạo ra danh sách các giá trị xuất hiện nhiều nhất - top_Cate. Sau đó, thêm 2 cột vào DataFrame là 'Top_Cate' và 'Others_Cate'. Khi đó, tiến hành duyệt cột 'Category' đã được phân mảnh, đếm số cate xuất hiện trong num_topCate và điền vào cột 'Top_Cate', đếm số cate  không xuất hiện trong num_topCate và điền vào cột 'Others_Cate'.Sau khi xử lý xong, ta xóa bỏ cột 'Category' đi.\n",
        "\n",
        "Ví dụ:\n",
        "\n",
        "cột 'Category': Drama, Comedy,Family\n",
        "\n",
        "num_topCate = 5, top_Cate: Drama, Comedy, Action, Thriller, Romance\n",
        "\n",
        "cột 'Top_Cate': 2 và 'Others_Cate': 1"
      ]
    },
    {
      "cell_type": "code",
      "metadata": {
        "id": "Rx4Xn0Nld3tF"
      },
      "source": [
        "class ColAdderDropper(BaseEstimator, TransformerMixin):\n",
        "    def __init__(self, num_topCate = 1):\n",
        "        self.num_topCate = num_topCate\n",
        "    def fit(self,X_df,y=None):\n",
        "        return self\n",
        "    def transform(self,X_df,y=None):\n",
        "        tp = X_df.copy()\n",
        "        tp_temp = tp.Category.str.split(',').explode()\n",
        "        Cate_counts = tp_temp.value_counts()\n",
        "        Cate = list(Cate_counts.index)\n",
        "        top_Cate = Cate[:max(1, min(self.num_topCate, len(Cate)))]\n",
        "        top_tier_Cate = 'Top_' + f'{self.num_topCate}' + '_Cate'\n",
        "        name_Cate = [top_tier_Cate ,'Others_Cate']\n",
        "        tp = tp.reindex(tp.columns.tolist() + name_Cate, axis=1, fill_value=0)\n",
        "        for idx in tp.index:\n",
        "            for val in tp.loc[idx,'Category'].split(','):\n",
        "                if(val in top_Cate):\n",
        "                    tp.loc[idx,top_tier_Cate] += 1\n",
        "                else:\n",
        "                    tp.loc[idx,'Others_Cate'] += 1\n",
        "        tp.drop(labels=[\"Category\"], axis=1, inplace=True)\n",
        "        return tp"
      ],
      "execution_count": 29,
      "outputs": []
    },
    {
      "cell_type": "code",
      "metadata": {
        "colab": {
          "base_uri": "https://localhost:8080/",
          "height": 450
        },
        "id": "QzcpKOAdd3tG",
        "outputId": "ff71af98-a1cf-4794-d031-103ac77f9c30"
      },
      "source": [
        "# Test thử với num_topCate = 10\n",
        "col_adderdropper = ColAdderDropper(num_topCate=10)\n",
        "col_adderdropper.transform(X_data_train)"
      ],
      "execution_count": 30,
      "outputs": [
        {
          "output_type": "execute_result",
          "data": {
            "text/html": [
              "<div>\n",
              "<style scoped>\n",
              "    .dataframe tbody tr th:only-of-type {\n",
              "        vertical-align: middle;\n",
              "    }\n",
              "\n",
              "    .dataframe tbody tr th {\n",
              "        vertical-align: top;\n",
              "    }\n",
              "\n",
              "    .dataframe thead th {\n",
              "        text-align: right;\n",
              "    }\n",
              "</style>\n",
              "<table border=\"1\" class=\"dataframe\">\n",
              "  <thead>\n",
              "    <tr style=\"text-align: right;\">\n",
              "      <th></th>\n",
              "      <th>Duration</th>\n",
              "      <th>Score_voting</th>\n",
              "      <th>Amount_vote</th>\n",
              "      <th>Amount_gross</th>\n",
              "      <th>Top_10_Cate</th>\n",
              "      <th>Others_Cate</th>\n",
              "    </tr>\n",
              "    <tr>\n",
              "      <th>Title</th>\n",
              "      <th></th>\n",
              "      <th></th>\n",
              "      <th></th>\n",
              "      <th></th>\n",
              "      <th></th>\n",
              "      <th></th>\n",
              "    </tr>\n",
              "  </thead>\n",
              "  <tbody>\n",
              "    <tr>\n",
              "      <th>Dead in a Week Or Your Money Back</th>\n",
              "      <td>90.0</td>\n",
              "      <td>6.2</td>\n",
              "      <td>5152.0</td>\n",
              "      <td>NaN</td>\n",
              "      <td>2</td>\n",
              "      <td>0</td>\n",
              "    </tr>\n",
              "    <tr>\n",
              "      <th>Danny Collins</th>\n",
              "      <td>106.0</td>\n",
              "      <td>7.0</td>\n",
              "      <td>29931.0</td>\n",
              "      <td>5.35</td>\n",
              "      <td>3</td>\n",
              "      <td>0</td>\n",
              "    </tr>\n",
              "    <tr>\n",
              "      <th>The Mother</th>\n",
              "      <td>112.0</td>\n",
              "      <td>6.7</td>\n",
              "      <td>3975.0</td>\n",
              "      <td>1.06</td>\n",
              "      <td>2</td>\n",
              "      <td>0</td>\n",
              "    </tr>\n",
              "    <tr>\n",
              "      <th>Vita &amp; Virginia</th>\n",
              "      <td>110.0</td>\n",
              "      <td>5.7</td>\n",
              "      <td>2537.0</td>\n",
              "      <td>0.04</td>\n",
              "      <td>3</td>\n",
              "      <td>0</td>\n",
              "    </tr>\n",
              "    <tr>\n",
              "      <th>White Bird in a Blizzard</th>\n",
              "      <td>91.0</td>\n",
              "      <td>6.4</td>\n",
              "      <td>26933.0</td>\n",
              "      <td>0.03</td>\n",
              "      <td>3</td>\n",
              "      <td>0</td>\n",
              "    </tr>\n",
              "    <tr>\n",
              "      <th>...</th>\n",
              "      <td>...</td>\n",
              "      <td>...</td>\n",
              "      <td>...</td>\n",
              "      <td>...</td>\n",
              "      <td>...</td>\n",
              "      <td>...</td>\n",
              "    </tr>\n",
              "    <tr>\n",
              "      <th>Welcome to New York</th>\n",
              "      <td>125.0</td>\n",
              "      <td>5.5</td>\n",
              "      <td>3514.0</td>\n",
              "      <td>NaN</td>\n",
              "      <td>1</td>\n",
              "      <td>0</td>\n",
              "    </tr>\n",
              "    <tr>\n",
              "      <th>Cosmopolis</th>\n",
              "      <td>109.0</td>\n",
              "      <td>5.1</td>\n",
              "      <td>44623.0</td>\n",
              "      <td>0.74</td>\n",
              "      <td>2</td>\n",
              "      <td>1</td>\n",
              "    </tr>\n",
              "    <tr>\n",
              "      <th>Vampires</th>\n",
              "      <td>108.0</td>\n",
              "      <td>6.2</td>\n",
              "      <td>53252.0</td>\n",
              "      <td>20.24</td>\n",
              "      <td>3</td>\n",
              "      <td>0</td>\n",
              "    </tr>\n",
              "    <tr>\n",
              "      <th>Imperium</th>\n",
              "      <td>109.0</td>\n",
              "      <td>6.5</td>\n",
              "      <td>42156.0</td>\n",
              "      <td>NaN</td>\n",
              "      <td>3</td>\n",
              "      <td>0</td>\n",
              "    </tr>\n",
              "    <tr>\n",
              "      <th>Carandiru</th>\n",
              "      <td>145.0</td>\n",
              "      <td>7.6</td>\n",
              "      <td>18185.0</td>\n",
              "      <td>0.21</td>\n",
              "      <td>2</td>\n",
              "      <td>0</td>\n",
              "    </tr>\n",
              "  </tbody>\n",
              "</table>\n",
              "<p>4028 rows × 6 columns</p>\n",
              "</div>"
            ],
            "text/plain": [
              "                                   Duration  Score_voting  Amount_vote  Amount_gross  Top_10_Cate  Others_Cate\n",
              "Title                                                                                                         \n",
              "Dead in a Week Or Your Money Back      90.0           6.2       5152.0           NaN            2            0\n",
              "Danny Collins                         106.0           7.0      29931.0          5.35            3            0\n",
              "The Mother                            112.0           6.7       3975.0          1.06            2            0\n",
              "Vita & Virginia                       110.0           5.7       2537.0          0.04            3            0\n",
              "White Bird in a Blizzard               91.0           6.4      26933.0          0.03            3            0\n",
              "...                                     ...           ...          ...           ...          ...          ...\n",
              "Welcome to New York                   125.0           5.5       3514.0           NaN            1            0\n",
              "Cosmopolis                            109.0           5.1      44623.0          0.74            2            1\n",
              "Vampires                              108.0           6.2      53252.0         20.24            3            0\n",
              "Imperium                              109.0           6.5      42156.0           NaN            3            0\n",
              "Carandiru                             145.0           7.6      18185.0          0.21            2            0\n",
              "\n",
              "[4028 rows x 6 columns]"
            ]
          },
          "metadata": {
            "tags": []
          },
          "execution_count": 30
        }
      ]
    },
    {
      "cell_type": "markdown",
      "metadata": {
        "id": "mtQ3-YrMd3tH"
      },
      "source": [
        "Sau khi thực hiện bước trên, ta thấy rằng có tất cả 20 giá trị cột category, trong đó top 5 giá trị với số lần xuất hiện nhiều nhất là:  Drama, Comedy, Action, Thriller, Romance."
      ]
    },
    {
      "cell_type": "code",
      "metadata": {
        "colab": {
          "base_uri": "https://localhost:8080/"
        },
        "id": "8_LKnOvDd3tI",
        "outputId": "9c7f3bd1-b405-4b48-e79a-d6a1d0f8e17f"
      },
      "source": [
        "num_col = ['Duration', 'Score_voting','Amount_vote','Amount_gross','Top_10_Cate','Others_Cate']\n",
        "numeric_transformer = Pipeline([\n",
        "    ('num_imputer', SimpleImputer(strategy='mean'))])\n",
        "preprocessor = ColumnTransformer(\n",
        "    transformers=[\n",
        "        ('numericas', numeric_transformer, num_cols)],\n",
        "    remainder = 'passthrough')\n",
        "preprocess_pipeline= Pipeline(\n",
        "    steps=[\n",
        "       ('CAD', ColAdderDropper()),\n",
        "       ('Preprocessing', preprocessor),\n",
        "       ('stdScalar', StandardScaler())])\n",
        "preprocess_pipeline"
      ],
      "execution_count": 31,
      "outputs": [
        {
          "output_type": "execute_result",
          "data": {
            "text/plain": [
              "Pipeline(memory=None,\n",
              "         steps=[('CAD', ColAdderDropper(num_topCate=1)),\n",
              "                ('Preprocessing',\n",
              "                 ColumnTransformer(n_jobs=None, remainder='passthrough',\n",
              "                                   sparse_threshold=0.3,\n",
              "                                   transformer_weights=None,\n",
              "                                   transformers=[('numericas',\n",
              "                                                  Pipeline(memory=None,\n",
              "                                                           steps=[('num_imputer',\n",
              "                                                                   SimpleImputer(add_indicator=False,\n",
              "                                                                                 copy=True,\n",
              "                                                                                 fill_value=None,\n",
              "                                                                                 missing_values=nan,\n",
              "                                                                                 strategy='mean',\n",
              "                                                                                 verbose=0))],\n",
              "                                                           verbose=False),\n",
              "                                                  ['Duration', 'Score_voting',\n",
              "                                                   'Amount_vote',\n",
              "                                                   'Amount_gross'])],\n",
              "                                   verbose=False)),\n",
              "                ('stdScalar',\n",
              "                 StandardScaler(copy=True, with_mean=True, with_std=True))],\n",
              "         verbose=False)"
            ]
          },
          "metadata": {
            "tags": []
          },
          "execution_count": 31
        }
      ]
    },
    {
      "cell_type": "markdown",
      "metadata": {
        "id": "2cwqFegkd3tI"
      },
      "source": [
        "### Sử dụng pipeline vừa rồi lên tập train và tập validation."
      ]
    },
    {
      "cell_type": "code",
      "metadata": {
        "id": "OBA48iPxd3tJ"
      },
      "source": [
        "preprocessed_train_X = preprocess_pipeline.fit_transform(X_data_train)\n",
        "preprocessed_val_X=preprocess_pipeline.transform(X_data_val)"
      ],
      "execution_count": 32,
      "outputs": []
    },
    {
      "cell_type": "markdown",
      "metadata": {
        "id": "nx02J12kd3tK"
      },
      "source": [
        "# III. CHỌN MÔ HÌNH CHO BÀI TOÁN"
      ]
    },
    {
      "cell_type": "markdown",
      "metadata": {
        "id": "85Lpt_tnd3tK"
      },
      "source": [
        "### Tiến hành xây dụng một pipeline áp dụng model MLPClassifier cho bài toán"
      ]
    },
    {
      "cell_type": "code",
      "metadata": {
        "colab": {
          "base_uri": "https://localhost:8080/"
        },
        "id": "SRwf74Sid3tK",
        "outputId": "5dbc8b4a-ba5d-47ef-9e1e-43c5f01ad509"
      },
      "source": [
        "neural_net_model =MLPClassifier(hidden_layer_sizes=(20,), activation='logistic',\n",
        "                                 solver='lbfgs', max_iter=2500, random_state=0)\n",
        "full_pipeline = make_pipeline(ColAdderDropper(),preprocessor, StandardScaler(),neural_net_model)\n",
        "full_pipeline"
      ],
      "execution_count": 33,
      "outputs": [
        {
          "output_type": "execute_result",
          "data": {
            "text/plain": [
              "Pipeline(memory=None,\n",
              "         steps=[('coladderdropper', ColAdderDropper(num_topCate=1)),\n",
              "                ('columntransformer',\n",
              "                 ColumnTransformer(n_jobs=None, remainder='passthrough',\n",
              "                                   sparse_threshold=0.3,\n",
              "                                   transformer_weights=None,\n",
              "                                   transformers=[('numericas',\n",
              "                                                  Pipeline(memory=None,\n",
              "                                                           steps=[('num_imputer',\n",
              "                                                                   SimpleImputer(add_indicator=False,\n",
              "                                                                                 copy=True,\n",
              "                                                                                 fill_value=None,\n",
              "                                                                                 missing_values=nan,\n",
              "                                                                                 s...\n",
              "                               batch_size='auto', beta_1=0.9, beta_2=0.999,\n",
              "                               early_stopping=False, epsilon=1e-08,\n",
              "                               hidden_layer_sizes=(20,),\n",
              "                               learning_rate='constant',\n",
              "                               learning_rate_init=0.001, max_fun=15000,\n",
              "                               max_iter=2500, momentum=0.9, n_iter_no_change=10,\n",
              "                               nesterovs_momentum=True, power_t=0.5,\n",
              "                               random_state=0, shuffle=True, solver='lbfgs',\n",
              "                               tol=0.0001, validation_fraction=0.1,\n",
              "                               verbose=False, warm_start=False))],\n",
              "         verbose=False)"
            ]
          },
          "metadata": {
            "tags": []
          },
          "execution_count": 33
        }
      ]
    },
    {
      "cell_type": "code",
      "metadata": {
        "colab": {
          "base_uri": "https://localhost:8080/",
          "height": 35
        },
        "id": "ap_XHDQad3tL",
        "outputId": "3e8a6202-607d-4560-ce7e-33aeda4376ef"
      },
      "source": [
        "train_errs = []\n",
        "val_errs = []\n",
        "alphas = [0.1, 1, 10, 100]\n",
        "num_TopCate = [3,6,9,12,15]\n",
        "best_val_err = float('inf'); best_alpha = None; best_num_TopCate = None\n",
        "for alpha in alphas:\n",
        "    for num_cate in num_TopCate:\n",
        "        # YOUR CODE HERE\n",
        "        full_pipeline.set_params(coladderdropper__num_topCate=num_cate, mlpclassifier__alpha=alpha)\n",
        "        full_pipeline.fit(X_data_train,y_data_train)\n",
        "        train_errs.append(1-full_pipeline.score(X_data_train,y_data_train))\n",
        "        full_pipeline.predict(X_data_val)\n",
        "        val_err=(1-full_pipeline.score(X_data_val,y_data_val))*100\n",
        "        val_errs.append(val_err)\n",
        "        if( best_val_err > val_err):\n",
        "            best_val_err= val_err\n",
        "            best_alpha= alpha\n",
        "            best_num_TopCate = num_cate\n",
        "'Finish'"
      ],
      "execution_count": 34,
      "outputs": [
        {
          "output_type": "execute_result",
          "data": {
            "application/vnd.google.colaboratory.intrinsic+json": {
              "type": "string"
            },
            "text/plain": [
              "'Finish'"
            ]
          },
          "metadata": {
            "tags": []
          },
          "execution_count": 34
        }
      ]
    },
    {
      "cell_type": "code",
      "metadata": {
        "id": "WIHIZ2e2d3tL",
        "outputId": "d1f334b0-5faf-482a-f419-66fd23eadcf6"
      },
      "source": [
        "print( best_val_err)\n",
        "print( best_num_TopCate)"
      ],
      "execution_count": null,
      "outputs": [
        {
          "output_type": "stream",
          "text": [
            "47.19521316379955\n",
            "15\n"
          ],
          "name": "stdout"
        }
      ]
    },
    {
      "cell_type": "code",
      "metadata": {
        "id": "ZhiFLgrXd3tL",
        "outputId": "cf34df9c-e3c7-4daf-ceb9-5136bdc37d2d"
      },
      "source": [
        "full_pipeline.set_params(coladderdropper__num_topCate=best_num_TopCate, mlpclassifier__alpha=best_alpha)\n",
        "(1-full_pipeline.score(X_data_val,y_data_val))*100"
      ],
      "execution_count": null,
      "outputs": [
        {
          "output_type": "execute_result",
          "data": {
            "text/plain": [
              "51.00972326103217"
            ]
          },
          "metadata": {
            "tags": []
          },
          "execution_count": 33
        }
      ]
    },
    {
      "cell_type": "code",
      "metadata": {
        "id": "Tj1Px5nzd3tM",
        "outputId": "ec8a66d4-cd24-4279-cfaa-77a6d8c13d39"
      },
      "source": [
        "full_pipeline.fit(X_data_train,y_data_train)\n",
        "print(full_pipeline.score(X_data_train,y_data_train)*100)\n",
        "full_pipeline.predict(X_data_val)\n",
        "print(full_pipeline.score(X_data_val,y_data_val)*100)"
      ],
      "execution_count": null,
      "outputs": [
        {
          "output_type": "stream",
          "text": [
            "58.165046123161304\n",
            "52.80478683620045\n"
          ],
          "name": "stdout"
        }
      ]
    },
    {
      "cell_type": "markdown",
      "metadata": {
        "id": "3CKwj-bnd3tM"
      },
      "source": [
        "**Cuối cùng, huấn luyện lại `full_pipeline` trên `X_data` và `y_data` (tập huấn luyện + tập validation) với `best_alpha` và `best_num_TopCate` tìm được ở trên để ra được mô hình cụ thể cuối cùng.**"
      ]
    },
    {
      "cell_type": "code",
      "metadata": {
        "id": "Zk7z26Icd3tM",
        "outputId": "9fb28f7d-3142-4c9a-9295-9ddb74f57448"
      },
      "source": [
        "full_pipeline.set_params(coladderdropper__num_topCate=best_num_TopCate, mlpclassifier__alpha=best_alpha)\n",
        "FinalModel = full_pipeline.fit(X_data, y_data)\n",
        "FinalModel"
      ],
      "execution_count": null,
      "outputs": [
        {
          "output_type": "execute_result",
          "data": {
            "text/html": [
              "<style>div.sk-top-container {color: black;background-color: white;}div.sk-toggleable {background-color: white;}label.sk-toggleable__label {cursor: pointer;display: block;width: 100%;margin-bottom: 0;padding: 0.2em 0.3em;box-sizing: border-box;text-align: center;}div.sk-toggleable__content {max-height: 0;max-width: 0;overflow: hidden;text-align: left;background-color: #f0f8ff;}div.sk-toggleable__content pre {margin: 0.2em;color: black;border-radius: 0.25em;background-color: #f0f8ff;}input.sk-toggleable__control:checked~div.sk-toggleable__content {max-height: 200px;max-width: 100%;overflow: auto;}div.sk-estimator input.sk-toggleable__control:checked~label.sk-toggleable__label {background-color: #d4ebff;}div.sk-label input.sk-toggleable__control:checked~label.sk-toggleable__label {background-color: #d4ebff;}input.sk-hidden--visually {border: 0;clip: rect(1px 1px 1px 1px);clip: rect(1px, 1px, 1px, 1px);height: 1px;margin: -1px;overflow: hidden;padding: 0;position: absolute;width: 1px;}div.sk-estimator {font-family: monospace;background-color: #f0f8ff;margin: 0.25em 0.25em;border: 1px dotted black;border-radius: 0.25em;box-sizing: border-box;}div.sk-estimator:hover {background-color: #d4ebff;}div.sk-parallel-item::after {content: \"\";width: 100%;border-bottom: 1px solid gray;flex-grow: 1;}div.sk-label:hover label.sk-toggleable__label {background-color: #d4ebff;}div.sk-serial::before {content: \"\";position: absolute;border-left: 1px solid gray;box-sizing: border-box;top: 2em;bottom: 0;left: 50%;}div.sk-serial {display: flex;flex-direction: column;align-items: center;background-color: white;}div.sk-item {z-index: 1;}div.sk-parallel {display: flex;align-items: stretch;justify-content: center;background-color: white;}div.sk-parallel-item {display: flex;flex-direction: column;position: relative;background-color: white;}div.sk-parallel-item:first-child::after {align-self: flex-end;width: 50%;}div.sk-parallel-item:last-child::after {align-self: flex-start;width: 50%;}div.sk-parallel-item:only-child::after {width: 0;}div.sk-dashed-wrapped {border: 1px dashed gray;margin: 0.2em;box-sizing: border-box;padding-bottom: 0.1em;background-color: white;position: relative;}div.sk-label label {font-family: monospace;font-weight: bold;background-color: white;display: inline-block;line-height: 1.2em;}div.sk-label-container {position: relative;z-index: 2;text-align: center;}div.sk-container {display: inline-block;position: relative;}</style><div class=\"sk-top-container\"><div class=\"sk-container\"><div class=\"sk-item sk-dashed-wrapped\"><div class=\"sk-label-container\"><div class=\"sk-label sk-toggleable\"><input class=\"sk-toggleable__control sk-hidden--visually\" id=\"b6ac155d-4237-4f13-969e-405dfce8dbc1\" type=\"checkbox\" ><label class=\"sk-toggleable__label\" for=\"b6ac155d-4237-4f13-969e-405dfce8dbc1\">Pipeline</label><div class=\"sk-toggleable__content\"><pre>Pipeline(steps=[('coladderdropper', ColAdderDropper(num_topCate=15)),\n",
              "                ('columntransformer',\n",
              "                 ColumnTransformer(remainder='passthrough',\n",
              "                                   transformers=[('numericas',\n",
              "                                                  Pipeline(steps=[('num_imputer',\n",
              "                                                                   SimpleImputer())]),\n",
              "                                                  ['Duration', 'Score_voting',\n",
              "                                                   'Amount_vote',\n",
              "                                                   'Amount_gross'])])),\n",
              "                ('standardscaler', StandardScaler()),\n",
              "                ('mlpclassifier',\n",
              "                 MLPClassifier(activation='logistic', alpha=0.1,\n",
              "                               hidden_layer_sizes=(20,), max_iter=2500,\n",
              "                               random_state=0, solver='lbfgs'))])</pre></div></div></div><div class=\"sk-serial\"><div class=\"sk-item\"><div class=\"sk-estimator sk-toggleable\"><input class=\"sk-toggleable__control sk-hidden--visually\" id=\"5a6955c6-8947-4e3e-95ab-e0a5fd731207\" type=\"checkbox\" ><label class=\"sk-toggleable__label\" for=\"5a6955c6-8947-4e3e-95ab-e0a5fd731207\">ColAdderDropper</label><div class=\"sk-toggleable__content\"><pre>ColAdderDropper(num_topCate=15)</pre></div></div></div><div class=\"sk-item sk-dashed-wrapped\"><div class=\"sk-label-container\"><div class=\"sk-label sk-toggleable\"><input class=\"sk-toggleable__control sk-hidden--visually\" id=\"3eebe0f3-d78e-411c-ac4e-2fdeaf307ee0\" type=\"checkbox\" ><label class=\"sk-toggleable__label\" for=\"3eebe0f3-d78e-411c-ac4e-2fdeaf307ee0\">columntransformer: ColumnTransformer</label><div class=\"sk-toggleable__content\"><pre>ColumnTransformer(remainder='passthrough',\n",
              "                  transformers=[('numericas',\n",
              "                                 Pipeline(steps=[('num_imputer',\n",
              "                                                  SimpleImputer())]),\n",
              "                                 ['Duration', 'Score_voting', 'Amount_vote',\n",
              "                                  'Amount_gross'])])</pre></div></div></div><div class=\"sk-parallel\"><div class=\"sk-parallel-item\"><div class=\"sk-item\"><div class=\"sk-label-container\"><div class=\"sk-label sk-toggleable\"><input class=\"sk-toggleable__control sk-hidden--visually\" id=\"0dc3b0e8-e526-411b-a039-721ec4b70ea9\" type=\"checkbox\" ><label class=\"sk-toggleable__label\" for=\"0dc3b0e8-e526-411b-a039-721ec4b70ea9\">numericas</label><div class=\"sk-toggleable__content\"><pre>['Duration', 'Score_voting', 'Amount_vote', 'Amount_gross']</pre></div></div></div><div class=\"sk-serial\"><div class=\"sk-item\"><div class=\"sk-serial\"><div class=\"sk-item\"><div class=\"sk-estimator sk-toggleable\"><input class=\"sk-toggleable__control sk-hidden--visually\" id=\"6ae83bf8-48e8-47bc-9d60-af129076f232\" type=\"checkbox\" ><label class=\"sk-toggleable__label\" for=\"6ae83bf8-48e8-47bc-9d60-af129076f232\">SimpleImputer</label><div class=\"sk-toggleable__content\"><pre>SimpleImputer()</pre></div></div></div></div></div></div></div></div></div></div><div class=\"sk-item\"><div class=\"sk-estimator sk-toggleable\"><input class=\"sk-toggleable__control sk-hidden--visually\" id=\"4f58ac4d-55ac-4996-97f3-b04d6d5d31e2\" type=\"checkbox\" ><label class=\"sk-toggleable__label\" for=\"4f58ac4d-55ac-4996-97f3-b04d6d5d31e2\">StandardScaler</label><div class=\"sk-toggleable__content\"><pre>StandardScaler()</pre></div></div></div><div class=\"sk-item\"><div class=\"sk-estimator sk-toggleable\"><input class=\"sk-toggleable__control sk-hidden--visually\" id=\"d0fd7232-2c40-4d30-a6d3-99d316fbc0b1\" type=\"checkbox\" ><label class=\"sk-toggleable__label\" for=\"d0fd7232-2c40-4d30-a6d3-99d316fbc0b1\">MLPClassifier</label><div class=\"sk-toggleable__content\"><pre>MLPClassifier(activation='logistic', alpha=0.1, hidden_layer_sizes=(20,),\n",
              "              max_iter=2500, random_state=0, solver='lbfgs')</pre></div></div></div></div></div></div></div>"
            ],
            "text/plain": [
              "Pipeline(steps=[('coladderdropper', ColAdderDropper(num_topCate=15)),\n",
              "                ('columntransformer',\n",
              "                 ColumnTransformer(remainder='passthrough',\n",
              "                                   transformers=[('numericas',\n",
              "                                                  Pipeline(steps=[('num_imputer',\n",
              "                                                                   SimpleImputer())]),\n",
              "                                                  ['Duration', 'Score_voting',\n",
              "                                                   'Amount_vote',\n",
              "                                                   'Amount_gross'])])),\n",
              "                ('standardscaler', StandardScaler()),\n",
              "                ('mlpclassifier',\n",
              "                 MLPClassifier(activation='logistic', alpha=0.1,\n",
              "                               hidden_layer_sizes=(20,), max_iter=2500,\n",
              "                               random_state=0, solver='lbfgs'))])"
            ]
          },
          "metadata": {
            "tags": []
          },
          "execution_count": 35
        }
      ]
    },
    {
      "cell_type": "markdown",
      "metadata": {
        "id": "TjzZjg1cd3tN"
      },
      "source": [
        "### Đánh giá mô hình tìm được\n",
        "\n",
        "**Tiến hành dự đoán tập X_data_test dựa vào FinalModel**"
      ]
    },
    {
      "cell_type": "code",
      "metadata": {
        "id": "Ps_mWRpbd3tN",
        "outputId": "77caf05b-cc6e-4b20-cbbc-b2cd0b9129fc"
      },
      "source": [
        "y_pred_val = FinalModel.predict(X_data_test)\n",
        "y_pred_val"
      ],
      "execution_count": null,
      "outputs": [
        {
          "output_type": "execute_result",
          "data": {
            "text/plain": [
              "array([4., 8., 6., ..., 6., 6., 8.])"
            ]
          },
          "metadata": {
            "tags": []
          },
          "execution_count": 36
        }
      ]
    },
    {
      "cell_type": "markdown",
      "metadata": {
        "id": "GBJBE5Lzd3tN"
      },
      "source": [
        "**Tính độ lỗi trên tập test**"
      ]
    },
    {
      "cell_type": "code",
      "metadata": {
        "id": "vMx3fCLSd3tN"
      },
      "source": [
        "def sc_MSE(y, test_pred):\n",
        "    return ((y - test_pred) ** 2).mean()\n",
        "def sc_rr(y, test_pred, base_train):\n",
        "    return 1 - sc_MSE(y, test_pred) / sc_MSE(y, base_train)"
      ],
      "execution_count": null,
      "outputs": []
    },
    {
      "cell_type": "code",
      "metadata": {
        "id": "t4Zilvrbd3tO",
        "outputId": "db222032-7bac-405b-ae71-16844baf3e4c"
      },
      "source": [
        "base_train = y_data_train.mean()\n",
        "score = sc_rr(y_data_test, FinalModel.predict(X_data_test), base_train) \n",
        "print('Độ lỗi r^2 trên tập kiểm tra là ' + f'{((1-score)*100):.3f}' + '%')"
      ],
      "execution_count": null,
      "outputs": [
        {
          "output_type": "stream",
          "text": [
            "Độ lỗi r^2 trên tập kiểm tra là 67.006%\n"
          ],
          "name": "stdout"
        }
      ]
    },
    {
      "cell_type": "markdown",
      "metadata": {
        "id": "QDQlUEwQd3tO"
      },
      "source": [
        "## IV. KHÓ KHĂN VÀ HẠN CHẾ\n",
        "\n",
        "Khó khăn trong việc tìm nguồn dữ liệu, và chủ đề cho đồ án do hiện nay có rất nhiều đề tài mà nhóm quan tâm. Bên cạnh đó, do nhóm chọn một nguồn dữ liệu chưa được 'sạch' lắm nên thực hiện quá trình tiền xử lý hơi nhiều, làm cho dữ liệu mất kha khá, gây ảnh hưởng đến quá trình dự đoán sau này. \n",
        "\n",
        "Nhóm hi vọng sẽ tìm được nguồn dữ liệu tốt hơn (có nhiều cột thuộc tính hơn) về đề tài phim anime này để thực hiện mô hình hóa tốt hơn, đưa ra kết quả dự đoán chính xác hơn, giúp cho việc phân tích trở nên có ý nghĩa hơn."
      ]
    },
    {
      "cell_type": "markdown",
      "metadata": {
        "id": "89PdgMV2d3tO"
      },
      "source": [
        "## V. TÀI LIỆU THAM KHẢO\n",
        "\n",
        "[1] Temple trong file BT03_TienXuLy_MoHinhHoa.jpynb"
      ]
    },
    {
      "cell_type": "code",
      "metadata": {
        "id": "UygFPxFyd3tO"
      },
      "source": [
        ""
      ],
      "execution_count": null,
      "outputs": []
    }
  ]
}