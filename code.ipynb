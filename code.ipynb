{
  "nbformat": 4,
  "nbformat_minor": 0,
  "metadata": {
    "accelerator": "GPU",
    "colab": {
      "name": "code.ipynb",
      "provenance": [],
      "collapsed_sections": [],
      "toc_visible": true
    },
    "kernelspec": {
      "display_name": "Python 3",
      "language": "python",
      "name": "python3"
    },
    "language_info": {
      "codemirror_mode": {
        "name": "ipython",
        "version": 3
      },
      "file_extension": ".py",
      "mimetype": "text/x-python",
      "name": "python",
      "nbconvert_exporter": "python",
      "pygments_lexer": "ipython3",
      "version": "3.8.3"
    }
  },
  "cells": [
    {
      "cell_type": "markdown",
      "metadata": {
        "id": "eGBgThS8q8k3"
      },
      "source": [
        "#Thông tin nhóm\n",
        "STT: 8\n",
        "\n",
        "1712704 - Nguyễn Phước Quang.\n",
        "\n",
        "1712892 - Nguyễn Thị Tuyết.\n",
        "\n"
      ]
    },
    {
      "cell_type": "markdown",
      "metadata": {
        "id": "7qdrvDrCrnqz"
      },
      "source": [
        "# Đồ án cuối kỳ môn nhập môn khoa học dữ liệu"
      ]
    },
    {
      "cell_type": "markdown",
      "metadata": {
        "id": "QkZaH7EE-ocN"
      },
      "source": [
        "# 1.Thu thập dữ liệu"
      ]
    },
    {
      "cell_type": "code",
      "metadata": {
        "id": "y7vw8fCoUxPz"
      },
      "source": [
        "# import cac thu vien can thiet\n",
        "import requests\n",
        "import csv\n",
        "import pandas as pd\n",
        "from bs4 import BeautifulSoup\n",
        "import matplotlib.pyplot as plt\n",
        "import numpy as np\n",
        "import re\n",
        "import time as t\n"
      ],
      "execution_count": 1,
      "outputs": []
    },
    {
      "cell_type": "code",
      "metadata": {
        "id": "csQLW5TfUxP1"
      },
      "source": [
        "per_page=1\r\n",
        "url = f'https://www.imdb.com/search/title/?title_type=feature&amp&release_date=1995-10-10,2020-12-12&amp&start={per_page}&amp&ref_=adv_nxt'\r\n",
        "html_text = requests.get(url).text\r\n",
        "tree= BeautifulSoup(html_text, 'html.parser')"
      ],
      "execution_count": 2,
      "outputs": []
    },
    {
      "cell_type": "code",
      "metadata": {
        "id": "zY2fwu1xUxP2",
        "colab": {
          "base_uri": "https://localhost:8080/"
        },
        "outputId": "730d799a-fd20-42de-b9e1-d44ca9d3ce03"
      },
      "source": [
        "films = tree.find_all('div', {'class': 'lister-item-content'})\r\n",
        "test=tree.find_all('div',class_=\"desc\")\r\n"
      ],
      "execution_count": 3,
      "outputs": [
        {
          "output_type": "execute_result",
          "data": {
            "text/plain": [
              "1"
            ]
          },
          "metadata": {
            "tags": []
          },
          "execution_count": 3
        }
      ]
    },
    {
      "cell_type": "code",
      "metadata": {
        "id": "XhHVnRTJmdHi"
      },
      "source": [
        "# các biến dùng để lưu các thuộc tính của bộ phim\r\n",
        "list_title = []\r\n",
        "duration = []\r\n",
        "category = []\r\n",
        "scores = []\r\n",
        "score_voting=[]\r\n",
        "amount_vote=[]\r\n",
        "amount_gross=[]\r\n",
        "check=True\r\n",
        "i=1\r\n",
        "while(i<10000): \r\n",
        "  url = f'https://www.imdb.com/search/title/?title_type=feature&amp&release_date=1995-10-10,2020-12-12&amp&start={i}&amp&ref_=adv_nxt'\r\n",
        "  html_text = requests.get(url).text\r\n",
        "  tree= BeautifulSoup(html_text, 'html.parser')\r\n",
        "  films = tree.find_all('div', {'class': 'lister-item-content'})\r\n",
        "  for film in films:\r\n",
        "\r\n",
        "    # lay ten film\r\n",
        "    temp=film\r\n",
        "    title=temp.find('a').get_text().replace('\\n','').replace('\\t','')\r\n",
        "    #print(title)\r\n",
        "    list_title.append(title)\r\n",
        "\r\n",
        "    try:\r\n",
        "      # lay  thoi gian cua film\r\n",
        "      head=temp.find_all(class_ = \"text-muted\")\r\n",
        "      time=head[1]\r\n",
        "      runtime = time.find(class_=\"runtime\").get_text()\r\n",
        "      runtime = re.findall(\"[0-9]+\", runtime)\r\n",
        "      runtime=int(runtime[0])\r\n",
        "      duration.append(runtime)\r\n",
        "      #print(runtime)\r\n",
        "    except:\r\n",
        "      duration.append(np.nan)\r\n",
        "    # lay the loai film\r\n",
        "    \r\n",
        "    try:\r\n",
        "      genre = time.find(class_= \"genre\").get_text()\r\n",
        "      genre=genre.lstrip(\"\\n\").rstrip(\"\\n\").replace('\\n','').replace('\\t','')\r\n",
        "      #print(genre)\r\n",
        "      category.append(genre)\r\n",
        "    except:\r\n",
        "      category.append(np.nan)\r\n",
        "\r\n",
        "    try: \r\n",
        "      # lay diem  danh gia vote\r\n",
        "      voting=temp.find(class_=\"inline-block ratings-imdb-rating\").get_text()\r\n",
        "\r\n",
        "      voting=float(voting.lstrip(\"\\n\"))\r\n",
        "      #print(voting)\r\n",
        "      score_voting.append(voting)\r\n",
        "    except:\r\n",
        "      score_voting.append(np.nan)\r\n",
        "    # lay diem Metascore\r\n",
        "\r\n",
        "    try: \r\n",
        "      meta_score=temp.find(class_=\"inline-block ratings-metascore\").get_text()\r\n",
        "      meta_score =re.findall(\"[0-9]+\", meta_score)\r\n",
        "      meta_score=(int)(meta_score[0])\r\n",
        "      #print(meta_score)\r\n",
        "      scores.append(meta_score)\r\n",
        "    except:\r\n",
        "      scores.append(np.nan)\r\n",
        "    # lay number vote\r\n",
        "    try:\r\n",
        "      number_votes=temp.find(class_=\"sort-num_votes-visible\").find_all(\"span\")[1].get_text()\r\n",
        "      number_votes=(int)(number_votes.replace(',',''))\r\n",
        "      amount_vote.append(number_votes)\r\n",
        "      #print(number_votes)\r\n",
        "    except:\r\n",
        "      amount_vote.append(np.nan)\r\n",
        "    # lay danh thu  film\r\n",
        "    try:\r\n",
        "      gross=temp.find(class_=\"sort-num_votes-visible\").find_all(\"span\")[4].get_text()\r\n",
        "      gross=gross.lstrip(\"$\").rstrip(\"M\")\r\n",
        "      amount_gross.append(gross)\r\n",
        "      #print((float)(gross))\r\n",
        "    except:\r\n",
        "      amount_gross.append(np.nan)\r\n",
        "\r\n",
        "  # kiem tra trang ke tiep\r\n",
        "  i=i+50\r\n",
        "  #print(i)\r\n",
        "  t.sleep(1)\r\n",
        "  \r\n",
        " \r\n",
        "# viết dữ liệu xuống file csv\r\n",
        "data=[list_title,duration,category,scores,score_voting,amount_vote,amount_gross]\r\n",
        "a=np.array(data)\r\n",
        "dataset = pd.DataFrame({'Title': list_title, 'Category': category,'Duration':duration,'Socres':scores,'Score_voting':score_voting,'Amount_vote':amount_vote,'Amount_gross':amount_gross})\r\n",
        "dataset.to_csv(\"a.csv\",sep=',')\r\n"
      ],
      "execution_count": 6,
      "outputs": []
    },
    {
      "cell_type": "code",
      "metadata": {
        "id": "jTrvDnp6U48k"
      },
      "source": [
        ""
      ],
      "execution_count": null,
      "outputs": []
    }
  ]
}